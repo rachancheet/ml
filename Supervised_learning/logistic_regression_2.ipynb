{
 "cells": [
  {
   "cell_type": "code",
   "execution_count": 130,
   "metadata": {},
   "outputs": [],
   "source": [
    "import matplotlib.pyplot as pl\n",
    "import numpy as np\n",
    "import pandas as pd\n",
    "from functions.plot_gradient import *\n",
    "from functions_old.multi_gradient_descent import *\n",
    "from math import log"
   ]
  },
  {
   "cell_type": "code",
   "execution_count": 131,
   "metadata": {},
   "outputs": [],
   "source": [
    "def sigmoid(x):\n",
    "    return 1 / (1 + np.exp(-x))\n",
    "def fun(x,w,b):\n",
    "    return sigmoid(np.dot(w,x) + b)\n",
    "\n",
    "def cost(x,y,w,b):\n",
    "    k = 0\n",
    "    m = x.shape[0]\n",
    "    for i in range(x.shape[0]):\n",
    "        if y[i] ==1:\n",
    "            k -= (1/m)*np.log(fun(x[i],w,b))\n",
    "        if y[i] ==0:\n",
    "            k -= (1/m)*(np.log(1-fun(x[i],w,b)))\n",
    "    return k\n",
    "def compute_gradient(x,y,w,b):\n",
    "    lambda_ = 1\n",
    "    dj_dw = np.zeros(x.shape[1])\n",
    "    dj_db = 0\n",
    "    for i in range(x.shape[0]):\n",
    "        k = fun(x[i],w,b)-y[i]\n",
    "        for j in range(x.shape[1]):\n",
    "            dj_dw[j] += k*x[i][j]\n",
    "        dj_db += k\n",
    "\n",
    "# for refualrization\n",
    "    for j in range(x.shape[1]):\n",
    "        dj_dw[j] = dj_dw[j]/x.shape[0] + (lambda_/x.shape[0]) * w[j]\n",
    "    return dj_dw/x.shape[0],dj_db/x.shape[0]\n",
    "\n",
    "def logistic_descent(x,y,alpha = 0.01,iter =10000 ):\n",
    "    hist = []\n",
    "    w = np.zeros(x.shape[1])\n",
    "    b =0\n",
    "    for i in range(iter):\n",
    "    \n",
    "        dj_dw,dj_db = compute_gradient(x,y,w,b)\n",
    "\n",
    "        w = w - alpha*dj_dw\n",
    "        b = b- alpha*dj_db\n",
    "        k  =cost(x,y,w,b)\n",
    "        hist.append([i,k])\n",
    "        if i%100 ==0:\n",
    "            # print(w,b,\"-------------------------------- cost: \",cost(x,y,w,b))\n",
    "            print(\"itreation: \",i,\"-------------------------------- cost: \",k)\n",
    "            pass\n",
    "    return w,b,hist\n",
    "\n",
    "\n",
    "\n"
   ]
  },
  {
   "cell_type": "code",
   "execution_count": 132,
   "metadata": {},
   "outputs": [],
   "source": [
    "def map_feature(X1, X2,degree=6):\n",
    "    \"\"\"\n",
    "    Feature mapping function to polynomial features    \n",
    "    \"\"\"\n",
    "    X1 = np.atleast_1d(X1)\n",
    "    X2 = np.atleast_1d(X2)\n",
    "    # degree = 6\n",
    "    out = []\n",
    "    for i in range(1, degree+1):\n",
    "        for j in range(i + 1):\n",
    "            out.append((X1**(i-j) * (X2**j)))\n",
    "    return np.stack(out, axis=1)"
   ]
  },
  {
   "cell_type": "code",
   "execution_count": 133,
   "metadata": {},
   "outputs": [
    {
     "name": "stdout",
     "output_type": "stream",
     "text": [
      "[[3.46236596e+01 7.80246928e+01 1.19879781e+03 ... 4.44297848e+10\n",
      "  1.00122874e+11 2.25627694e+11]\n",
      " [3.02867108e+01 4.38949975e+01 9.17284849e+02 ... 3.40537024e+09\n",
      "  4.93545566e+09 7.15303209e+09]\n",
      " [3.58474088e+01 7.29021980e+01 1.28503672e+03 ... 3.62976097e+10\n",
      "  7.38177632e+10 1.50121791e+11]\n",
      " ...\n",
      " [9.93150088e+01 6.87754095e+01 9.86347097e+03 ... 2.20679764e+11\n",
      "  1.52820216e+11 1.05827639e+11]\n",
      " [5.53400176e+01 6.49319380e+01 3.06251754e+03 ... 5.44392391e+10\n",
      "  6.38750303e+10 7.49462991e+10]\n",
      " [7.47758930e+01 8.95298129e+01 5.59143417e+03 ... 3.59247640e+11\n",
      "  4.30130256e+11 5.14998615e+11]]\n"
     ]
    },
    {
     "data": {
      "text/plain": [
       "array([0., 0., 0., 1., 1., 0., 1., 1., 1., 1., 0., 0., 1., 1., 0., 1., 1.,\n",
       "       0., 1., 1., 0., 1., 0., 0., 1., 1., 1., 0., 0., 0., 1., 1., 0., 1.,\n",
       "       0., 0., 0., 1., 0., 0., 1., 0., 1., 0., 0., 0., 1., 1., 1., 1., 1.,\n",
       "       1., 1., 0., 0., 0., 1., 0., 1., 1., 1., 0., 0., 0., 0., 0., 1., 0.,\n",
       "       1., 1., 0., 1., 1., 1., 1., 1., 1., 1., 0., 0., 1., 1., 1., 1., 1.,\n",
       "       1., 0., 1., 1., 0., 1., 1., 0., 1., 1., 1., 1., 1., 1., 1.])"
      ]
     },
     "execution_count": 133,
     "metadata": {},
     "output_type": "execute_result"
    }
   ],
   "source": [
    "data = np.loadtxt(\"C:\\code\\ml\\Coursera\\material\\C1 - Supervised Machine Learning - Regression and Classification\\week3\\C1W3A1\\data\\ex2data1.txt\",delimiter = ',')\n",
    "x_train = data[:,:2]\n",
    "y_train = data[:,2]\n",
    "# x_train = np.array([[x,y,x**2,y**2] for x,y in list(x_train)])\n",
    "# x_train = np.c_[x_train[:,0],x_train[:,1],x_train[:,0]**2,x_train[:,1]**2,x_train[:,0]**3,x_train[:,1]**3]\n",
    "x_train = map_feature(x_train[:,0],x_train[:,1])\n",
    "print(x_train)\n",
    "# y_train"
   ]
  },
  {
   "cell_type": "code",
   "execution_count": 134,
   "metadata": {},
   "outputs": [
    {
     "data": {
      "image/png": "[encoded data removed]",
      "text/plain": [
       "<Figure size 640x480 with 1 Axes>"
      ]
     },
     "metadata": {},
     "output_type": "display_data"
    }
   ],
   "source": [
    "for i in range(y_train.shape[0]):\n",
    "    if y_train[i] == 1:\n",
    "        pl.scatter(x_train[i,0], x_train[i,1],marker='*',color='black')\n",
    "    else:\n",
    "        pl.scatter(x_train[i,0], x_train[i,1],marker='o',color= 'orange')\n",
    "        \n",
    "pl.show()"
   ]
  },
  {
   "cell_type": "code",
   "execution_count": 135,
   "metadata": {},
   "outputs": [],
   "source": [
    "\n",
    "X = feature_scaling(x_train)\n",
    "# y_train = feature_scaling(y_train)"
   ]
  },
  {
   "cell_type": "code",
   "execution_count": 136,
   "metadata": {},
   "outputs": [
    {
     "name": "stdout",
     "output_type": "stream",
     "text": [
      "itreation:  0 -------------------------------- cost:  0.699981054120894\n",
      "itreation:  100 -------------------------------- cost:  0.34918940751177807\n",
      "itreation:  200 -------------------------------- cost:  0.3086902908185842\n",
      "itreation:  300 -------------------------------- cost:  0.290906027758971\n",
      "itreation:  400 -------------------------------- cost:  0.28060760001571783\n",
      "itreation:  500 -------------------------------- cost:  0.2737896137800629\n",
      "itreation:  600 -------------------------------- cost:  0.26891351972664324\n",
      "itreation:  700 -------------------------------- cost:  0.2652516188734057\n",
      "itreation:  800 -------------------------------- cost:  0.2624091515829222\n",
      "itreation:  900 -------------------------------- cost:  0.26015008194339306\n",
      "itreation:  1000 -------------------------------- cost:  0.2583228410053138\n",
      "itreation:  1100 -------------------------------- cost:  0.2568247630084162\n",
      "itreation:  1200 -------------------------------- cost:  0.25558340846430555\n",
      "itreation:  1300 -------------------------------- cost:  0.25454599672804296\n",
      "itreation:  1400 -------------------------------- cost:  0.2536730556337408\n",
      "itreation:  1500 -------------------------------- cost:  0.25293441649535575\n",
      "itreation:  1600 -------------------------------- cost:  0.2523065890086731\n",
      "itreation:  1700 -------------------------------- cost:  0.2517709864705532\n",
      "itreation:  1800 -------------------------------- cost:  0.25131269495557024\n",
      "itreation:  1900 -------------------------------- cost:  0.2509196010852874\n",
      "itreation:  2000 -------------------------------- cost:  0.25058176201627624\n",
      "itreation:  2100 -------------------------------- cost:  0.2502909423779259\n",
      "itreation:  2200 -------------------------------- cost:  0.25004026830144704\n",
      "itreation:  2300 -------------------------------- cost:  0.24982396486937636\n",
      "itreation:  2400 -------------------------------- cost:  0.24963715387885455\n",
      "[ 1.0084598   0.76771892  0.72002372  1.26004327  0.54845121  0.44917176\n",
      "  0.98199058  1.12067747  0.32803842  0.22534617  0.70520679  0.9231936\n",
      "  0.81630473  0.13461932  0.05418076  0.47889759  0.68604756  0.79291689\n",
      "  0.57433681 -0.0222937  -0.07102603  0.30699764  0.48913975  0.59878488\n",
      "  0.65945323  0.38968017 -0.14457704] 1.4754034106493255\n"
     ]
    }
   ],
   "source": [
    "per_w,per_b,hist = logistic_descent(X,y_train,10,2500)\n",
    "hist = np.array(hist)\n",
    "print(per_w,per_b)"
   ]
  },
  {
   "cell_type": "code",
   "execution_count": 137,
   "metadata": {},
   "outputs": [],
   "source": [
    "# good values at cost 0.28\n",
    "# [  0.39664464   5.37172645  -4.10272205  -5.69348236  -1.19712926\n",
    "#    7.11766681  12.47982926  21.72942956   5.11933198  -0.42590879\n",
    "#   -3.87492642   5.2134271   -6.1019243  -22.82453656   1.98800004\n",
    "#   -4.80822942   6.55607643  -0.8712463  -21.65766905   9.27194633\n",
    "#  -34.28011989  -7.86397389  -4.56595912   7.29856087 -27.41739458\n",
    "#  -28.04650768  -5.14905925] -1.9859311381516982"
   ]
  },
  {
   "cell_type": "code",
   "execution_count": 138,
   "metadata": {},
   "outputs": [
    {
     "data": {
      "image/png": "[encoded data removed]",
      "text/plain": [
       "<Figure size 640x480 with 1 Axes>"
      ]
     },
     "metadata": {},
     "output_type": "display_data"
    }
   ],
   "source": [
    "pl.plot(hist[:,0],hist[:,1])\n",
    "pl.show()"
   ]
  },
  {
   "cell_type": "code",
   "execution_count": 139,
   "metadata": {},
   "outputs": [],
   "source": [
    "def predict(X, w, b): \n",
    "    m, n = X.shape   \n",
    "    p = np.zeros(m)\n",
    "    for i in range(m):   \n",
    "        z_wb = np.dot(X[i],w) \n",
    "        for j in range(n): \n",
    "            z_wb += 0\n",
    "        z_wb += b\n",
    "        \n",
    "        f_wb = sigmoid(z_wb)\n",
    "\n",
    "        p[i] = 1 if f_wb>0.5 else 0\n",
    "        \n",
    "    return p"
   ]
  },
  {
   "cell_type": "code",
   "execution_count": 140,
   "metadata": {},
   "outputs": [
    {
     "name": "stdout",
     "output_type": "stream",
     "text": [
      "Train Accuracy: 90.000000\n"
     ]
    }
   ],
   "source": [
    "pred = predict(X,per_w,per_b)\n",
    "print('Train Accuracy: %f'%(np.mean(pred == y_train) * 100))"
   ]
  },
  {
   "cell_type": "code",
   "execution_count": 143,
   "metadata": {},
   "outputs": [
    {
     "data": {
      "image/png": "[encoded data removed]",
      "text/plain": [
       "<Figure size 640x480 with 1 Axes>"
      ]
     },
     "metadata": {},
     "output_type": "display_data"
    }
   ],
   "source": [
    "plot_decision_boundary(per_w,per_b,X,y_train)"
   ]
  },
  {
   "cell_type": "code",
   "execution_count": 144,
   "metadata": {},
   "outputs": [],
   "source": [
    "# for i in range(y_train.shape[0]):\n",
    "#     if y_train[i] == 1:\n",
    "#         pl.scatter(x_train[i,0], x_train[i,1],marker='*',color='black')\n",
    "#     else:\n",
    "#         pl.scatter(x_train[i,0], x_train[i,1],marker='o',color= 'orange')\n",
    "        \n",
    "\n",
    "# x1 = np.linspace(-1, 1.5, 50)\n",
    "# x2 = np.linspace(-1, 1.5, 50)\n",
    "# for i in range(x1.shape[0]):\n",
    "#     for j in range(x2.shape[0]):\n",
    "#         k = np.dot(map_feature(x1[i],x2[j])[0],per_w) +per_b\n",
    "#         if int(k) == 0:\n",
    "#             print(k)\n",
    "#             pl.scatter(x1[i],x2[j],color='blue')\n",
    "# pl.show()"
   ]
  },
  {
   "cell_type": "code",
   "execution_count": null,
   "metadata": {},
   "outputs": [],
   "source": []
  },
  {
   "cell_type": "code",
   "execution_count": null,
   "metadata": {},
   "outputs": [],
   "source": []
  }
 ],
 "metadata": {
  "kernelspec": {
   "display_name": "Python 3",
   "language": "python",
   "name": "python3"
  },
  "language_info": {
   "codemirror_mode": {
    "name": "ipython",
    "version": 3
   },
   "file_extension": ".py",
   "mimetype": "text/x-python",
   "name": "python",
   "nbconvert_exporter": "python",
   "pygments_lexer": "ipython3",
   "version": "3.11.3"
  },
  "orig_nbformat": 4
 },
 "nbformat": 4,
 "nbformat_minor": 2
}
