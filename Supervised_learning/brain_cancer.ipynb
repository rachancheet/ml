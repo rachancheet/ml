{
 "cells": [
  {
   "cell_type": "code",
   "execution_count": 3,
   "metadata": {},
   "outputs": [],
   "source": [
    "import pandas as pd\n",
    "import numpy as np \n",
    "import matplotlib.pyplot as pl\n",
    "from math import *\n",
    "from functions_old.multi_gradient_descent import feature_scaling\n",
    "from functions.logistic_regression import * "
   ]
  },
  {
   "cell_type": "code",
   "execution_count": 15,
   "metadata": {},
   "outputs": [],
   "source": [
    "def sigmoid(x):\n",
    "    return 1 / (1 + np.exp(-x))\n",
    "def fun(x,w,b):\n",
    "    return sigmoid(np.dot(w,x) + b)\n",
    "\n",
    "def cost(x,y,w,b):\n",
    "    k = 0\n",
    "    m = x.shape[0]\n",
    "    for i in range(x.shape[0]):\n",
    "        if y[i] ==1:\n",
    "            k -= (1/m)*np.log(fun(x[i],w,b))\n",
    "        if y[i] ==0:\n",
    "            k -= (1/m)*(np.log(1-fun(x[i],w,b)))\n",
    "    return k\n",
    "\n",
    "def compute_gradient(x,y,w,b):\n",
    "    # lambda_ = 1\n",
    "    dj_dw = np.zeros(x.shape[1])\n",
    "    dj_db = 0\n",
    "    for i in range(x.shape[0]):\n",
    "        k = fun(x[i],w,b)-y[i]\n",
    "        for j in range(x.shape[1]):\n",
    "            dj_dw[j] += k*x[i][j]\n",
    "        dj_db += k\n",
    "\n",
    "# for regularization\n",
    "    # for j in range(x.shape[1]):\n",
    "    #     dj_dw[j] = dj_dw[j]/x.shape[0] + (lambda_/x.shape[0]) * w[j]\n",
    "    return dj_dw/x.shape[0],dj_db/x.shape[0]\n",
    "\n",
    "def logistic_descent(x,y,alpha = 0.01,iter =10000 ):\n",
    "    hist = []\n",
    "    w = np.zeros(x.shape[1])\n",
    "    b =0\n",
    "    for i in range(iter):\n",
    "    \n",
    "        dj_dw,dj_db = compute_gradient(x,y,w,b)\n",
    "\n",
    "        w = w - alpha*dj_dw\n",
    "        b = b- alpha*dj_db\n",
    "        k = cost(x,y,w,b)\n",
    "        hist.append([i,k])\n",
    "        if i%100 ==0:\n",
    "            print(w,b,\"-------------------------------- cost: \",k)\n",
    "            pass\n",
    "    return w,b,hist\n",
    "\n",
    "\n"
   ]
  },
  {
   "cell_type": "code",
   "execution_count": 5,
   "metadata": {},
   "outputs": [
    {
     "data": {
      "text/html": [
       "<div>\n",
       "<style scoped>\n",
       "    .dataframe tbody tr th:only-of-type {\n",
       "        vertical-align: middle;\n",
       "    }\n",
       "\n",
       "    .dataframe tbody tr th {\n",
       "        vertical-align: top;\n",
       "    }\n",
       "\n",
       "    .dataframe thead th {\n",
       "        text-align: right;\n",
       "    }\n",
       "</style>\n",
       "<table border=\"1\" class=\"dataframe\">\n",
       "  <thead>\n",
       "    <tr style=\"text-align: right;\">\n",
       "      <th></th>\n",
       "      <th>Unnamed: 0</th>\n",
       "      <th>sex</th>\n",
       "      <th>diagnosis</th>\n",
       "      <th>loc</th>\n",
       "      <th>ki</th>\n",
       "      <th>gtv</th>\n",
       "      <th>stereo</th>\n",
       "      <th>status</th>\n",
       "      <th>time</th>\n",
       "    </tr>\n",
       "  </thead>\n",
       "  <tbody>\n",
       "    <tr>\n",
       "      <th>0</th>\n",
       "      <td>1</td>\n",
       "      <td>Female</td>\n",
       "      <td>Meningioma</td>\n",
       "      <td>Infratentorial</td>\n",
       "      <td>90</td>\n",
       "      <td>6.11</td>\n",
       "      <td>SRS</td>\n",
       "      <td>0</td>\n",
       "      <td>57.64</td>\n",
       "    </tr>\n",
       "    <tr>\n",
       "      <th>1</th>\n",
       "      <td>2</td>\n",
       "      <td>Male</td>\n",
       "      <td>HG glioma</td>\n",
       "      <td>Supratentorial</td>\n",
       "      <td>90</td>\n",
       "      <td>19.35</td>\n",
       "      <td>SRT</td>\n",
       "      <td>1</td>\n",
       "      <td>8.98</td>\n",
       "    </tr>\n",
       "    <tr>\n",
       "      <th>2</th>\n",
       "      <td>3</td>\n",
       "      <td>Female</td>\n",
       "      <td>Meningioma</td>\n",
       "      <td>Infratentorial</td>\n",
       "      <td>70</td>\n",
       "      <td>7.95</td>\n",
       "      <td>SRS</td>\n",
       "      <td>0</td>\n",
       "      <td>26.46</td>\n",
       "    </tr>\n",
       "    <tr>\n",
       "      <th>3</th>\n",
       "      <td>4</td>\n",
       "      <td>Female</td>\n",
       "      <td>LG glioma</td>\n",
       "      <td>Supratentorial</td>\n",
       "      <td>80</td>\n",
       "      <td>7.61</td>\n",
       "      <td>SRT</td>\n",
       "      <td>1</td>\n",
       "      <td>47.80</td>\n",
       "    </tr>\n",
       "    <tr>\n",
       "      <th>4</th>\n",
       "      <td>5</td>\n",
       "      <td>Male</td>\n",
       "      <td>HG glioma</td>\n",
       "      <td>Supratentorial</td>\n",
       "      <td>90</td>\n",
       "      <td>5.06</td>\n",
       "      <td>SRT</td>\n",
       "      <td>1</td>\n",
       "      <td>6.30</td>\n",
       "    </tr>\n",
       "  </tbody>\n",
       "</table>\n",
       "</div>"
      ],
      "text/plain": [
       "   Unnamed: 0     sex   diagnosis             loc  ki    gtv stereo  status  \\\n",
       "0           1  Female  Meningioma  Infratentorial  90   6.11    SRS       0   \n",
       "1           2    Male   HG glioma  Supratentorial  90  19.35    SRT       1   \n",
       "2           3  Female  Meningioma  Infratentorial  70   7.95    SRS       0   \n",
       "3           4  Female   LG glioma  Supratentorial  80   7.61    SRT       1   \n",
       "4           5    Male   HG glioma  Supratentorial  90   5.06    SRT       1   \n",
       "\n",
       "    time  \n",
       "0  57.64  \n",
       "1   8.98  \n",
       "2  26.46  \n",
       "3  47.80  \n",
       "4   6.30  "
      ]
     },
     "execution_count": 5,
     "metadata": {},
     "output_type": "execute_result"
    }
   ],
   "source": [
    "file = \"../data from book/BrainCancer.csv\"\n",
    "data = pd.read_csv(file)\n",
    "data.head()\n"
   ]
  },
  {
   "cell_type": "code",
   "execution_count": 6,
   "metadata": {},
   "outputs": [
    {
     "name": "stdout",
     "output_type": "stream",
     "text": [
      "[['Meningioma', 'HG glioma', 'LG glioma', nan, 'Other'], ['Infratentorial', 'Supratentorial'], ['SRS', 'SRT'], ['Female', 'Male']]\n"
     ]
    }
   ],
   "source": [
    "ls = []\n",
    "leadger = []\n",
    "def categorical_data(x):\n",
    "    if x not in ls:\n",
    "        ls.append(x)\n",
    "    return ls.index(x)\n",
    "\n",
    "data['diagnosis'] = data['diagnosis'].apply(categorical_data)\n",
    "leadger.append(ls)\n",
    "ls =[]\n",
    "data['loc'] = data['loc'].apply(categorical_data)\n",
    "leadger.append(ls)\n",
    "ls =[]\n",
    "data['stereo'] = data['stereo'].apply(categorical_data)\n",
    "leadger.append(ls)\n",
    "ls =[]\n",
    "data['sex'] = data['sex'].apply(categorical_data)\n",
    "leadger.append(ls)\n",
    "ls =[]\n",
    "print(leadger)\n",
    "# data\n",
    "x_data = (np.array(data[['diagnosis','loc','stereo','sex','ki','gtv']]))\n",
    "y_data = (np.array(data['status']))\n",
    "X = feature_scaling(x_data)"
   ]
  },
  {
   "cell_type": "code",
   "execution_count": 7,
   "metadata": {},
   "outputs": [
    {
     "name": "stderr",
     "output_type": "stream",
     "text": [
      "C:\\Users\\DINO\\AppData\\Local\\Temp\\ipykernel_23288\\58001190.py:6: UserWarning: Matplotlib is currently using module://matplotlib_inline.backend_inline, which is a non-GUI backend, so cannot show the figure.\n",
      "  fig.show()\n"
     ]
    },
    {
     "data": {
      "image/png": "[encoded data removed]",
      "text/plain": [
       "<Figure size 1200x300 with 6 Axes>"
      ]
     },
     "metadata": {},
     "output_type": "display_data"
    }
   ],
   "source": [
    "x_features = ['sex'\t,'diagnosis','loc',\t'ki',\"gtv\",\t\"stereo\"]\n",
    "fig,ax=pl.subplots(1, 6, figsize=(12, 3), sharey=True)\n",
    "for i in range(x_data.shape[1]):\n",
    "    ax[i].scatter(x_data[:,i], y_data)\n",
    "    ax[i].set_title(x_features[i])\n",
    "fig.show()\n",
    "    "
   ]
  },
  {
   "cell_type": "code",
   "execution_count": 8,
   "metadata": {},
   "outputs": [
    {
     "name": "stdout",
     "output_type": "stream",
     "text": [
      "[ 0.  0.  0.  0. -0.  0.] -0.0010227272727272728 -------------------------------- cost:  60.98205110287663\n",
      "[ 0.02  0.04  0.05  0.03 -0.02  0.03] -0.09139293798391243 -------------------------------- cost:  59.72366044853091\n",
      "[ 0.03  0.08  0.09  0.06 -0.04  0.06] -0.16181620330582824 -------------------------------- cost:  58.80951799817196\n",
      "[ 0.05  0.11  0.13  0.09 -0.06  0.08] -0.21680768913311307 -------------------------------- cost:  58.11864226901489\n",
      "[ 0.06  0.14  0.16  0.11 -0.09  0.11] -0.25987431003932343 -------------------------------- cost:  57.57595183077815\n",
      "[ 0.07  0.18  0.2   0.14 -0.11  0.13] -0.2937236041366221 -------------------------------- cost:  57.13455519068558\n",
      "[ 0.09  0.21  0.23  0.16 -0.13  0.15] -0.3204414792673238 -------------------------------- cost:  56.764783504502034\n",
      "[ 0.1   0.23  0.26  0.18 -0.15  0.18] -0.3416346859537067 -------------------------------- cost:  56.447512449376525\n",
      "[ 0.11  0.26  0.29  0.19 -0.17  0.2 ] -0.35854185669154975 -------------------------------- cost:  56.17011987744214\n",
      "[ 0.13  0.29  0.31  0.21 -0.19  0.22] -0.37211894747125596 -------------------------------- cost:  55.92403820199729\n",
      "[ 0.14  0.31  0.33  0.23 -0.21  0.24] -0.38310465519750264 -------------------------------- cost:  55.70326621261283\n",
      "[ 0.15  0.34  0.36  0.24 -0.23  0.26] -0.3920704537250736 -------------------------------- cost:  55.50345794871755\n",
      "[ 0.16  0.36  0.38  0.25 -0.25  0.28] -0.39945890163930453 -------------------------------- cost:  55.3213596194849\n",
      "[ 0.17  0.38  0.4   0.27 -0.27  0.3 ] -0.40561302387589687 -------------------------------- cost:  55.154457437526375\n",
      "[ 0.18  0.4   0.42  0.28 -0.29  0.32] -0.41079889372235984 -------------------------------- cost:  55.00075406374113\n",
      "[ 0.2   0.42  0.43  0.29 -0.31  0.33] -0.41522302398561944 -------------------------------- cost:  54.85862408591103\n",
      "[ 0.21  0.44  0.45  0.3  -0.32  0.35] -0.4190457852019094 -------------------------------- cost:  54.72671852932879\n",
      "[ 0.22  0.46  0.46  0.31 -0.34  0.37] -0.42239177509753845 -------------------------------- cost:  54.60390014580472\n",
      "[ 0.23  0.48  0.48  0.31 -0.36  0.38] -0.4253578428622805 -------------------------------- cost:  54.48919830457436\n",
      "[ 0.24  0.49  0.49  0.32 -0.38  0.4 ] -0.4280193055731618 -------------------------------- cost:  54.381776589767455\n",
      "[ 0.25  0.51  0.5   0.33 -0.4   0.42] -0.43043476841495937 -------------------------------- cost:  54.280908810710045\n",
      "[ 0.26  0.53  0.51  0.34 -0.42  0.43] -0.4326498649219002 -------------------------------- cost:  54.185960720495096\n",
      "[ 0.27  0.54  0.52  0.34 -0.43  0.45] -0.43470016074570006 -------------------------------- cost:  54.09637571488394\n",
      "[ 0.27  0.56  0.53  0.35 -0.45  0.46] -0.4366134088444411 -------------------------------- cost:  54.01166338820974\n",
      "[ 0.28  0.57  0.54  0.35 -0.47  0.47] -0.4384113013300735 -------------------------------- cost:  53.93139020068296\n",
      "[ 0.29  0.59  0.55  0.36 -0.49  0.49] -0.4401108304061404 -------------------------------- cost:  53.85517175017348\n",
      "[ 0.3   0.6   0.56  0.36 -0.5   0.5 ] -0.4417253455403995 -------------------------------- cost:  53.78266629451046\n",
      "[ 0.31  0.61  0.57  0.37 -0.52  0.51] -0.4432653744887825 -------------------------------- cost:  53.713569270081706\n",
      "[ 0.32  0.63  0.57  0.37 -0.54  0.53] -0.44473926068168673 -------------------------------- cost:  53.647608618912095\n",
      "[ 0.33  0.64  0.58  0.37 -0.55  0.54] -0.4461536577830681 -------------------------------- cost:  53.584540781663186\n",
      "[ 0.33  0.65  0.59  0.38 -0.57  0.55] -0.4475139131589583 -------------------------------- cost:  53.524147245673106\n",
      "[ 0.34  0.66  0.59  0.38 -0.59  0.56] -0.44882436494795924 -------------------------------- cost:  53.46623155994461\n",
      "[ 0.35  0.67  0.6   0.38 -0.6   0.58] -0.4500885719531301 -------------------------------- cost:  53.410616745841445\n",
      "[ 0.36  0.68  0.6   0.39 -0.62  0.59] -0.4513094913188598 -------------------------------- cost:  53.357143045046726\n",
      "[ 0.37  0.7   0.61  0.39 -0.64  0.6 ] -0.45248961564491136 -------------------------------- cost:  53.30566595627761\n",
      "[ 0.37  0.71  0.61  0.39 -0.65  0.61] -0.4536310786117925 -------------------------------- cost:  53.25605452013985\n",
      "[ 0.38  0.72  0.61  0.39 -0.67  0.62] -0.4547357361836191 -------------------------------- cost:  53.208189817866966\n",
      "[ 0.39  0.73  0.62  0.4  -0.68  0.63] -0.45580522889002406 -------------------------------- cost:  53.1619636548959\n",
      "[ 0.4   0.74  0.62  0.4  -0.7   0.64] -0.45684102946919286 -------------------------------- cost:  53.11727740453758\n",
      "[ 0.4   0.75  0.62  0.4  -0.71  0.65] -0.4578444792034496 -------------------------------- cost:  53.074040990592046\n",
      "[ 0.41  0.76  0.62  0.4  -0.73  0.66] -0.4588168155376207 -------------------------------- cost:  53.03217199077542\n",
      "[ 0.42  0.76  0.63  0.4  -0.74  0.67] -0.45975919299254137 -------------------------------- cost:  52.99159484537709\n",
      "[ 0.42  0.77  0.63  0.4  -0.76  0.68] -0.46067269893556917 -------------------------------- cost:  52.95224015772056\n",
      "[ 0.43  0.78  0.63  0.4  -0.77  0.69] -0.4615583654188533 -------------------------------- cost:  52.91404407484679\n",
      "[ 0.44  0.79  0.63  0.41 -0.79  0.7 ] -0.4624171780225316 -------------------------------- cost:  52.8769477384024\n",
      "[ 0.44  0.8   0.63  0.41 -0.8   0.71] -0.4632500824269882 -------------------------------- cost:  52.840896797060076\n",
      "[ 0.45  0.81  0.63  0.41 -0.82  0.72] -0.46405798927249237 -------------------------------- cost:  52.80584097294782\n",
      "[ 0.45  0.82  0.64  0.41 -0.83  0.72] -0.46484177773561974 -------------------------------- cost:  52.77173367555151\n",
      "[ 0.46  0.82  0.64  0.41 -0.85  0.73] -0.4656022981516787 -------------------------------- cost:  52.73853165740479\n",
      "[ 0.47  0.83  0.64  0.41 -0.86  0.74] -0.466340373934685 -------------------------------- cost:  52.706194706613104\n",
      "[ 0.47  0.84  0.64  0.41 -0.88  0.75] -0.4670568029862049 -------------------------------- cost:  52.67468537188905\n",
      "[ 0.48  0.85  0.64  0.41 -0.89  0.76] -0.46775235873785864 -------------------------------- cost:  52.643968716323876\n",
      "[ 0.48  0.85  0.64  0.41 -0.9   0.76] -0.46842779093634745 -------------------------------- cost:  52.614012096590976\n",
      "[ 0.49  0.86  0.64  0.41 -0.92  0.77] -0.4690838262522382 -------------------------------- cost:  52.58478496468742\n",
      "[ 0.49  0.87  0.64  0.41 -0.93  0.78] -0.46972116877252723 -------------------------------- cost:  52.55625868967483\n",
      "[ 0.5   0.87  0.64  0.42 -0.95  0.79] -0.4703405004208061 -------------------------------- cost:  52.52840639718913\n",
      "[ 0.5   0.88  0.64  0.42 -0.96  0.79] -0.47094248133651473 -------------------------------- cost:  52.50120282475855\n",
      "[ 0.51  0.89  0.64  0.42 -0.97  0.8 ] -0.47152775023543586 -------------------------------- cost:  52.4746241912021\n",
      "[ 0.52  0.89  0.64  0.42 -0.99  0.81] -0.47209692476657383 -------------------------------- cost:  52.448648078585826\n",
      "[ 0.52  0.9   0.64  0.42 -1.    0.82] -0.4726506018753199 -------------------------------- cost:  52.42325332539205\n",
      "[ 0.53  0.91  0.64  0.42 -1.01  0.82] -0.47318935817895513 -------------------------------- cost:  52.398419929713704\n",
      "[ 0.53  0.91  0.64  0.42 -1.03  0.83] -0.47371375035771673 -------------------------------- cost:  52.37412896142132\n",
      "[ 0.54  0.92  0.64  0.42 -1.04  0.83] -0.47422431556265426 -------------------------------- cost:  52.35036248237102\n",
      "[ 0.54  0.92  0.64  0.42 -1.05  0.84] -0.47472157184007624 -------------------------------- cost:  52.32710347382689\n",
      "[ 0.54  0.93  0.64  0.42 -1.06  0.85] -0.4752060185714465 -------------------------------- cost:  52.304335770363586\n",
      "[ 0.55  0.94  0.63  0.42 -1.08  0.85] -0.47567813692697036 -------------------------------- cost:  52.282043999595906\n",
      "[ 0.55  0.94  0.63  0.42 -1.09  0.86] -0.476138390330745 -------------------------------- cost:  52.26021352715431\n",
      "[ 0.56  0.95  0.63  0.42 -1.1   0.87] -0.4765872249351742 -------------------------------- cost:  52.23883040638935\n",
      "[ 0.56  0.95  0.63  0.42 -1.11  0.87] -0.4770250701023001 -------------------------------- cost:  52.21788133234156\n",
      "[ 0.57  0.96  0.63  0.42 -1.13  0.88] -0.4774523388897395 -------------------------------- cost:  52.19735359956537\n",
      "[ 0.57  0.96  0.63  0.42 -1.14  0.88] -0.4778694285390329 -------------------------------- cost:  52.17723506343754\n",
      "[ 0.58  0.97  0.63  0.42 -1.15  0.89] -0.478276720964347 -------------------------------- cost:  52.157514104620276\n",
      "[ 0.58  0.97  0.63  0.42 -1.16  0.89] -0.4786745832396545 -------------------------------- cost:  52.138179596382706\n",
      "[ 0.58  0.98  0.63  0.42 -1.17  0.9 ] -0.4790633680826891 -------------------------------- cost:  52.11922087451581\n",
      "[ 0.59  0.98  0.63  0.42 -1.19  0.9 ] -0.4794434143341616 -------------------------------- cost:  52.10062770960269\n",
      "[ 0.59  0.99  0.62  0.42 -1.2   0.91] -0.4798150474309082 -------------------------------- cost:  52.08239028142933\n",
      "[ 0.6   0.99  0.62  0.42 -1.21  0.91] -0.4801785798718152 -------------------------------- cost:  52.06449915534448\n",
      "[ 0.6   1.    0.62  0.42 -1.22  0.92] -0.4805343116755293 -------------------------------- cost:  52.046945260393606\n",
      "[ 0.6   1.    0.62  0.42 -1.23  0.92] -0.48088253082911897 -------------------------------- cost:  52.02971986907247\n",
      "[ 0.61  1.01  0.62  0.43 -1.24  0.93] -0.4812235137269958 -------------------------------- cost:  52.0128145785575\n",
      "[ 0.61  1.01  0.62  0.43 -1.26  0.93] -0.4815575255995288 -------------------------------- cost:  51.99622129328659\n",
      "[ 0.62  1.02  0.62  0.43 -1.27  0.94] -0.4818848209309056 -------------------------------- cost:  51.97993220877501\n",
      "[ 0.62  1.02  0.62  0.43 -1.28  0.94] -0.4822056438658999 -------------------------------- cost:  51.963939796561995\n",
      "[ 0.62  1.03  0.61  0.43 -1.29  0.95] -0.48252022860529914 -------------------------------- cost:  51.94823679019368\n",
      "[ 0.63  1.03  0.61  0.43 -1.3   0.95] -0.4828287997898197 -------------------------------- cost:  51.93281617215693\n",
      "[ 0.63  1.03  0.61  0.43 -1.31  0.96] -0.48313157287242436 -------------------------------- cost:  51.91767116168626\n",
      "[ 0.63  1.04  0.61  0.43 -1.32  0.96] -0.4834287544790125 -------------------------------- cost:  51.90279520337369\n",
      "[ 0.64  1.04  0.61  0.43 -1.33  0.96] -0.48372054275750287 -------------------------------- cost:  51.88818195651685\n",
      "[ 0.64  1.05  0.61  0.43 -1.34  0.97] -0.4840071277153933 -------------------------------- cost:  51.87382528514749\n",
      "[ 0.64  1.05  0.61  0.43 -1.35  0.97] -0.4842886915459065 -------------------------------- cost:  51.85971924868718\n",
      "[ 0.65  1.05  0.61  0.43 -1.36  0.98] -0.4845654089428736 -------------------------------- cost:  51.84585809318174\n",
      "[ 0.65  1.06  0.6   0.43 -1.38  0.98] -0.48483744740453527 -------------------------------- cost:  51.83223624307021\n",
      "[ 0.65  1.06  0.6   0.43 -1.39  0.98] -0.48510496752646787 -------------------------------- cost:  51.81884829344806\n",
      "[ 0.66  1.07  0.6   0.43 -1.4   0.99] -0.4853681232838526 -------------------------------- cost:  51.80568900278799\n",
      "[ 0.66  1.07  0.6   0.43 -1.41  0.99] -0.4856270623033359 -------------------------------- cost:  51.79275328608431\n",
      "[ 0.66  1.07  0.6   0.43 -1.42  1.  ] -0.4858819261247279 -------------------------------- cost:  51.78003620839035\n",
      "[ 0.67  1.08  0.6   0.43 -1.43  1.  ] -0.48613285045280846 -------------------------------- cost:  51.76753297872029\n",
      "[ 0.67  1.08  0.6   0.43 -1.44  1.  ] -0.4863799653995066 -------------------------------- cost:  51.75523894429004\n",
      "[ 0.67  1.09  0.59  0.43 -1.45  1.01] -0.48662339571673324 -------------------------------- cost:  51.7431495850727\n",
      "[ 0.68  1.09  0.59  0.43 -1.46  1.01] -0.4868632610201427 -------------------------------- cost:  51.731260508647445\n"
     ]
    }
   ],
   "source": [
    "# per_w ,per_b,hist = gradient_descent(X,y_data,np.zeros([X.shape[1]]),0,0.01,10000,logistic=True,lambda_ =0)\n",
    "per_w ,per_b,hist = logistic_descent(X,y_data,0.01,10000)\n",
    "hist = np.array(hist)"
   ]
  },
  {
   "cell_type": "code",
   "execution_count": 9,
   "metadata": {},
   "outputs": [
    {
     "data": {
      "image/png": "[encoded data removed]",
      "text/plain": [
       "<Figure size 640x480 with 1 Axes>"
      ]
     },
     "metadata": {},
     "output_type": "display_data"
    }
   ],
   "source": [
    "pl.plot(hist[:,0],hist[:,1])\n",
    "pl.show()"
   ]
  },
  {
   "cell_type": "code",
   "execution_count": 16,
   "metadata": {},
   "outputs": [
    {
     "name": "stdout",
     "output_type": "stream",
     "text": [
      "0.5877236752206494\n",
      "0.5877236752206495\n"
     ]
    }
   ],
   "source": [
    "# print(compute_gradient(x_data,y_data,per_w,per_b))\n",
    "# print(compute_gradient_matrix(x_data,y_data,per_w,per_b,logistic=True))\n",
    "print(cost(x_data,y_data, per_w, per_b))\n",
    "\n",
    "print(compute_cost_matrix(x_data,y_data, per_w, per_b, logistic=True, lambda_=0, safe=False))"
   ]
  }
 ],
 "metadata": {
  "kernelspec": {
   "display_name": "Python 3",
   "language": "python",
   "name": "python3"
  },
  "language_info": {
   "codemirror_mode": {
    "name": "ipython",
    "version": 3
   },
   "file_extension": ".py",
   "mimetype": "text/x-python",
   "name": "python",
   "nbconvert_exporter": "python",
   "pygments_lexer": "ipython3",
   "version": "3.11.3"
  },
  "orig_nbformat": 4
 },
 "nbformat": 4,
 "nbformat_minor": 2
}
