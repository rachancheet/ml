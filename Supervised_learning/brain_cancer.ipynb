{
 "cells": [
  {
   "cell_type": "code",
   "execution_count": 23,
   "metadata": {},
   "outputs": [],
   "source": [
    "import pandas as pd\n",
    "import numpy as np \n",
    "import matplotlib.pyplot as pl\n",
    "from math import *\n",
    "from functions.plot_gradient import *\n",
    "from functions_old.multi_gradient_descent import feature_scaling\n",
    "from functions.logistic_regression import * "
   ]
  },
  {
   "cell_type": "code",
   "execution_count": 24,
   "metadata": {},
   "outputs": [],
   "source": [
    "def sigmoid(x):\n",
    "    return 1 / (1 + np.exp(-x))\n",
    "def fun(x,w,b):\n",
    "    return sigmoid(np.dot(w,x) + b)\n",
    "\n",
    "def cost(x,y,w,b):\n",
    "    k = 0\n",
    "    m = x.shape[0]\n",
    "    for i in range(x.shape[0]):\n",
    "        if y[i] ==1:\n",
    "            k -= (1/m)*np.log(fun(x[i],w,b))\n",
    "        if y[i] ==0:\n",
    "            k -= (1/m)*(np.log(1-fun(x[i],w,b)))\n",
    "    return k\n",
    "def compute_gradient(x,y,w,b):\n",
    "    lambda_ = 1\n",
    "    dj_dw = np.zeros(x.shape[1])\n",
    "    dj_db = 0\n",
    "    for i in range(x.shape[0]):\n",
    "        k = fun(x[i],w,b)-y[i]\n",
    "        for j in range(x.shape[1]):\n",
    "            dj_dw[j] += k*x[i][j]\n",
    "        dj_db += k\n",
    "\n",
    "# for refualrization\n",
    "    for j in range(x.shape[1]):\n",
    "        dj_dw[j] = dj_dw[j]/x.shape[0] + (lambda_/x.shape[0]) * w[j]\n",
    "    return dj_dw/x.shape[0],dj_db/x.shape[0]\n",
    "\n",
    "def logistic_descent(x,y,alpha = 0.01,iter =10000 ):\n",
    "    hist = []\n",
    "    w = np.zeros(x.shape[1])\n",
    "    b =0\n",
    "    for i in range(iter):\n",
    "    \n",
    "        dj_dw,dj_db = compute_gradient(x,y,w,b)\n",
    "\n",
    "        w = w - alpha*dj_dw\n",
    "        b = b- alpha*dj_db\n",
    "        k  =cost(x,y,w,b)\n",
    "        hist.append([i,k])\n",
    "        if i%100 ==0:\n",
    "            # print(w,b,\"-------------------------------- cost: \",cost(x,y,w,b))\n",
    "            print(\"itreation: \",i,\"-------------------------------- cost: \",k)\n",
    "            pass\n",
    "    return w,b,hist\n",
    "def predict(X, w, b): \n",
    "    m, n = X.shape   \n",
    "    p = np.zeros(m)\n",
    "    for i in range(m):   \n",
    "        z_wb = np.dot(X[i],w) \n",
    "        for j in range(n): \n",
    "            z_wb += 0\n",
    "        z_wb += b\n",
    "        \n",
    "        f_wb = sigmoid(z_wb)\n",
    "\n",
    "        p[i] = 1 if f_wb>0.5 else 0\n",
    "        \n",
    "    return p\n",
    "\n",
    "\n"
   ]
  },
  {
   "cell_type": "code",
   "execution_count": 25,
   "metadata": {},
   "outputs": [
    {
     "data": {
      "text/html": [
       "<div>\n",
       "<style scoped>\n",
       "    .dataframe tbody tr th:only-of-type {\n",
       "        vertical-align: middle;\n",
       "    }\n",
       "\n",
       "    .dataframe tbody tr th {\n",
       "        vertical-align: top;\n",
       "    }\n",
       "\n",
       "    .dataframe thead th {\n",
       "        text-align: right;\n",
       "    }\n",
       "</style>\n",
       "<table border=\"1\" class=\"dataframe\">\n",
       "  <thead>\n",
       "    <tr style=\"text-align: right;\">\n",
       "      <th></th>\n",
       "      <th>Unnamed: 0</th>\n",
       "      <th>sex</th>\n",
       "      <th>diagnosis</th>\n",
       "      <th>loc</th>\n",
       "      <th>ki</th>\n",
       "      <th>gtv</th>\n",
       "      <th>stereo</th>\n",
       "      <th>status</th>\n",
       "      <th>time</th>\n",
       "    </tr>\n",
       "  </thead>\n",
       "  <tbody>\n",
       "    <tr>\n",
       "      <th>0</th>\n",
       "      <td>1</td>\n",
       "      <td>Female</td>\n",
       "      <td>Meningioma</td>\n",
       "      <td>Infratentorial</td>\n",
       "      <td>90</td>\n",
       "      <td>6.11</td>\n",
       "      <td>SRS</td>\n",
       "      <td>0</td>\n",
       "      <td>57.64</td>\n",
       "    </tr>\n",
       "    <tr>\n",
       "      <th>1</th>\n",
       "      <td>2</td>\n",
       "      <td>Male</td>\n",
       "      <td>HG glioma</td>\n",
       "      <td>Supratentorial</td>\n",
       "      <td>90</td>\n",
       "      <td>19.35</td>\n",
       "      <td>SRT</td>\n",
       "      <td>1</td>\n",
       "      <td>8.98</td>\n",
       "    </tr>\n",
       "    <tr>\n",
       "      <th>2</th>\n",
       "      <td>3</td>\n",
       "      <td>Female</td>\n",
       "      <td>Meningioma</td>\n",
       "      <td>Infratentorial</td>\n",
       "      <td>70</td>\n",
       "      <td>7.95</td>\n",
       "      <td>SRS</td>\n",
       "      <td>0</td>\n",
       "      <td>26.46</td>\n",
       "    </tr>\n",
       "    <tr>\n",
       "      <th>3</th>\n",
       "      <td>4</td>\n",
       "      <td>Female</td>\n",
       "      <td>LG glioma</td>\n",
       "      <td>Supratentorial</td>\n",
       "      <td>80</td>\n",
       "      <td>7.61</td>\n",
       "      <td>SRT</td>\n",
       "      <td>1</td>\n",
       "      <td>47.80</td>\n",
       "    </tr>\n",
       "    <tr>\n",
       "      <th>4</th>\n",
       "      <td>5</td>\n",
       "      <td>Male</td>\n",
       "      <td>HG glioma</td>\n",
       "      <td>Supratentorial</td>\n",
       "      <td>90</td>\n",
       "      <td>5.06</td>\n",
       "      <td>SRT</td>\n",
       "      <td>1</td>\n",
       "      <td>6.30</td>\n",
       "    </tr>\n",
       "  </tbody>\n",
       "</table>\n",
       "</div>"
      ],
      "text/plain": [
       "   Unnamed: 0     sex   diagnosis             loc  ki    gtv stereo  status  \\\n",
       "0           1  Female  Meningioma  Infratentorial  90   6.11    SRS       0   \n",
       "1           2    Male   HG glioma  Supratentorial  90  19.35    SRT       1   \n",
       "2           3  Female  Meningioma  Infratentorial  70   7.95    SRS       0   \n",
       "3           4  Female   LG glioma  Supratentorial  80   7.61    SRT       1   \n",
       "4           5    Male   HG glioma  Supratentorial  90   5.06    SRT       1   \n",
       "\n",
       "    time  \n",
       "0  57.64  \n",
       "1   8.98  \n",
       "2  26.46  \n",
       "3  47.80  \n",
       "4   6.30  "
      ]
     },
     "execution_count": 25,
     "metadata": {},
     "output_type": "execute_result"
    }
   ],
   "source": [
    "file = \"../data from book/BrainCancer.csv\"\n",
    "data = pd.read_csv(file)\n",
    "data.head()\n"
   ]
  },
  {
   "cell_type": "code",
   "execution_count": 26,
   "metadata": {},
   "outputs": [
    {
     "name": "stdout",
     "output_type": "stream",
     "text": [
      "[['Meningioma', 'HG glioma', 'LG glioma', nan, 'Other'], ['Infratentorial', 'Supratentorial'], ['SRS', 'SRT'], ['Female', 'Male']]\n"
     ]
    }
   ],
   "source": [
    "ls = []\n",
    "leadger = []\n",
    "def categorical_data(x):\n",
    "    if x not in ls:\n",
    "        ls.append(x)\n",
    "    return ls.index(x)\n",
    "\n",
    "data['diagnosis'] = data['diagnosis'].apply(categorical_data)\n",
    "leadger.append(ls)\n",
    "ls =[]\n",
    "data['loc'] = data['loc'].apply(categorical_data)\n",
    "leadger.append(ls)\n",
    "ls =[]\n",
    "data['stereo'] = data['stereo'].apply(categorical_data)\n",
    "leadger.append(ls)\n",
    "ls =[]\n",
    "data['sex'] = data['sex'].apply(categorical_data)\n",
    "leadger.append(ls)\n",
    "ls =[]\n",
    "print(leadger)\n",
    "# data\n",
    "x_data = (np.array(data[['diagnosis','loc','stereo','sex','ki','gtv']]))\n",
    "y_data = (np.array(data['status']))\n",
    "X = feature_scaling(x_data)"
   ]
  },
  {
   "cell_type": "code",
   "execution_count": 27,
   "metadata": {},
   "outputs": [
    {
     "name": "stderr",
     "output_type": "stream",
     "text": [
      "C:\\Users\\DINO\\AppData\\Local\\Temp\\ipykernel_23288\\58001190.py:6: UserWarning: Matplotlib is currently using module://matplotlib_inline.backend_inline, which is a non-GUI backend, so cannot show the figure.\n",
      "  fig.show()\n"
     ]
    },
    {
     "data": {
      "image/png": "[encoded data removed]",
      "text/plain": [
       "<Figure size 1200x300 with 6 Axes>"
      ]
     },
     "metadata": {},
     "output_type": "display_data"
    }
   ],
   "source": [
    "x_features = ['diagnosis','loc','stereo','sex','ki',\"gtv\"]\n",
    "fig,ax=pl.subplots(1, 6, figsize=(12, 3), sharey=True)\n",
    "for i in range(x_data.shape[1]):\n",
    "    ax[i].scatter(x_data[:,i], y_data)\n",
    "    ax[i].set_title(x_features[i])\n",
    "fig.show()\n",
    "    "
   ]
  },
  {
   "cell_type": "code",
   "execution_count": 28,
   "metadata": {},
   "outputs": [
    {
     "name": "stdout",
     "output_type": "stream",
     "text": [
      "itreation:  0 -------------------------------- cost:  0.6930419769202826\n",
      "itreation:  100 -------------------------------- cost:  0.6847696742086515\n",
      "itreation:  200 -------------------------------- cost:  0.6797212136841696\n",
      "itreation:  300 -------------------------------- cost:  0.6766225991131053\n",
      "itreation:  400 -------------------------------- cost:  0.6747050324448937\n",
      "itreation:  500 -------------------------------- cost:  0.6735046898381645\n",
      "itreation:  600 -------------------------------- cost:  0.6727411585229796\n",
      "itreation:  700 -------------------------------- cost:  0.6722444028966801\n",
      "itreation:  800 -------------------------------- cost:  0.6719109913851764\n",
      "itreation:  900 -------------------------------- cost:  0.6716778201338637\n",
      "itreation:  1000 -------------------------------- cost:  0.6715062879703986\n",
      "itreation:  1100 -------------------------------- cost:  0.671372729112969\n",
      "itreation:  1200 -------------------------------- cost:  0.6712626071817551\n",
      "itreation:  1300 -------------------------------- cost:  0.6711669796093541\n",
      "itreation:  1400 -------------------------------- cost:  0.6710803381371875\n",
      "itreation:  1500 -------------------------------- cost:  0.6709992864459816\n",
      "itreation:  1600 -------------------------------- cost:  0.6709217286876028\n",
      "itreation:  1700 -------------------------------- cost:  0.6708463706647477\n",
      "itreation:  1800 -------------------------------- cost:  0.6707724127670386\n",
      "itreation:  1900 -------------------------------- cost:  0.670699360733803\n",
      "itreation:  2000 -------------------------------- cost:  0.6706269089248891\n",
      "itreation:  2100 -------------------------------- cost:  0.6705548682650786\n",
      "itreation:  2200 -------------------------------- cost:  0.6704831217393186\n",
      "itreation:  2300 -------------------------------- cost:  0.6704115968919994\n",
      "itreation:  2400 -------------------------------- cost:  0.6703402488273388\n",
      "itreation:  2500 -------------------------------- cost:  0.6702690496980462\n",
      "itreation:  2600 -------------------------------- cost:  0.670197982204412\n",
      "itreation:  2700 -------------------------------- cost:  0.6701270355729947\n",
      "itreation:  2800 -------------------------------- cost:  0.6700562030687981\n",
      "itreation:  2900 -------------------------------- cost:  0.6699854804559856\n",
      "itreation:  3000 -------------------------------- cost:  0.6699148650454055\n",
      "itreation:  3100 -------------------------------- cost:  0.6698443551051892\n",
      "itreation:  3200 -------------------------------- cost:  0.6697739494960003\n",
      "itreation:  3300 -------------------------------- cost:  0.6697036474453086\n",
      "itreation:  3400 -------------------------------- cost:  0.6696334484076953\n",
      "itreation:  3500 -------------------------------- cost:  0.6695633519783977\n",
      "itreation:  3600 -------------------------------- cost:  0.6694933578398042\n",
      "itreation:  3700 -------------------------------- cost:  0.6694234657283485\n",
      "itreation:  3800 -------------------------------- cost:  0.6693536754140147\n",
      "itreation:  3900 -------------------------------- cost:  0.6692839866876596\n",
      "itreation:  4000 -------------------------------- cost:  0.6692143993531694\n",
      "itreation:  4100 -------------------------------- cost:  0.6691449132226005\n",
      "itreation:  4200 -------------------------------- cost:  0.6690755281131807\n",
      "itreation:  4300 -------------------------------- cost:  0.6690062438454517\n",
      "itreation:  4400 -------------------------------- cost:  0.6689370602421163\n",
      "itreation:  4500 -------------------------------- cost:  0.6688679771273321\n",
      "itreation:  4600 -------------------------------- cost:  0.6687989943262702\n",
      "itreation:  4700 -------------------------------- cost:  0.6687301116648425\n",
      "itreation:  4800 -------------------------------- cost:  0.6686613289695387\n",
      "itreation:  4900 -------------------------------- cost:  0.6685926460673164\n",
      "itreation:  5000 -------------------------------- cost:  0.6685240627855414\n",
      "itreation:  5100 -------------------------------- cost:  0.6684555789519457\n",
      "itreation:  5200 -------------------------------- cost:  0.6683871943946048\n",
      "itreation:  5300 -------------------------------- cost:  0.6683189089419214\n",
      "itreation:  5400 -------------------------------- cost:  0.6682507224226145\n",
      "itreation:  5500 -------------------------------- cost:  0.6681826346657176\n",
      "itreation:  5600 -------------------------------- cost:  0.6681146455005698\n",
      "itreation:  5700 -------------------------------- cost:  0.668046754756816\n",
      "itreation:  5800 -------------------------------- cost:  0.6679789622644077\n",
      "itreation:  5900 -------------------------------- cost:  0.667911267853595\n",
      "itreation:  6000 -------------------------------- cost:  0.6678436713549333\n",
      "itreation:  6100 -------------------------------- cost:  0.6677761725992771\n",
      "itreation:  6200 -------------------------------- cost:  0.6677087714177823\n",
      "itreation:  6300 -------------------------------- cost:  0.6676414676419046\n",
      "itreation:  6400 -------------------------------- cost:  0.6675742611033991\n",
      "itreation:  6500 -------------------------------- cost:  0.6675071516343198\n",
      "itreation:  6600 -------------------------------- cost:  0.6674401390670202\n",
      "itreation:  6700 -------------------------------- cost:  0.6673732232341515\n",
      "itreation:  6800 -------------------------------- cost:  0.6673064039686616\n",
      "itreation:  6900 -------------------------------- cost:  0.6672396811037967\n",
      "itreation:  7000 -------------------------------- cost:  0.6671730544731003\n",
      "itreation:  7100 -------------------------------- cost:  0.667106523910411\n",
      "itreation:  7200 -------------------------------- cost:  0.6670400892498638\n",
      "itreation:  7300 -------------------------------- cost:  0.6669737503258899\n",
      "itreation:  7400 -------------------------------- cost:  0.6669075069732139\n",
      "itreation:  7500 -------------------------------- cost:  0.6668413590268565\n",
      "itreation:  7600 -------------------------------- cost:  0.6667753063221322\n",
      "itreation:  7700 -------------------------------- cost:  0.6667093486946485\n",
      "itreation:  7800 -------------------------------- cost:  0.6666434859803065\n",
      "itreation:  7900 -------------------------------- cost:  0.6665777180153005\n",
      "itreation:  8000 -------------------------------- cost:  0.6665120446361165\n",
      "itreation:  8100 -------------------------------- cost:  0.6664464656795326\n",
      "itreation:  8200 -------------------------------- cost:  0.6663809809826181\n",
      "itreation:  8300 -------------------------------- cost:  0.6663155903827334\n",
      "itreation:  8400 -------------------------------- cost:  0.66625029371753\n",
      "itreation:  8500 -------------------------------- cost:  0.6661850908249489\n",
      "itreation:  8600 -------------------------------- cost:  0.6661199815432203\n",
      "itreation:  8700 -------------------------------- cost:  0.6660549657108643\n",
      "itreation:  8800 -------------------------------- cost:  0.6659900431666893\n",
      "itreation:  8900 -------------------------------- cost:  0.6659252137497916\n",
      "itreation:  9000 -------------------------------- cost:  0.6658604772995563\n",
      "itreation:  9100 -------------------------------- cost:  0.6657958336556562\n",
      "itreation:  9200 -------------------------------- cost:  0.6657312826580488\n",
      "itreation:  9300 -------------------------------- cost:  0.6656668241469803\n",
      "itreation:  9400 -------------------------------- cost:  0.6656024579629819\n",
      "itreation:  9500 -------------------------------- cost:  0.6655381839468704\n",
      "itreation:  9600 -------------------------------- cost:  0.6654740019397478\n",
      "itreation:  9700 -------------------------------- cost:  0.6654099117830015\n",
      "itreation:  9800 -------------------------------- cost:  0.6653459133183018\n",
      "itreation:  9900 -------------------------------- cost:  0.6652820063876039\n"
     ]
    }
   ],
   "source": [
    "# per_w ,per_b,hist = gradient_descent(X,y_data,np.zeros([X.shape[1]]),0,0.01,10000,logistic=True,lambda_ =0)\n",
    "per_w ,per_b,hist = logistic_descent(X,y_data,0.01,10000)\n",
    "hist = np.array(hist)"
   ]
  },
  {
   "cell_type": "code",
   "execution_count": 29,
   "metadata": {},
   "outputs": [
    {
     "data": {
      "image/png": "[encoded data removed]",
      "text/plain": [
       "<Figure size 640x480 with 1 Axes>"
      ]
     },
     "metadata": {},
     "output_type": "display_data"
    }
   ],
   "source": [
    "pl.plot(hist[:,0],hist[:,1])\n",
    "pl.show()"
   ]
  },
  {
   "cell_type": "code",
   "execution_count": 30,
   "metadata": {},
   "outputs": [
    {
     "name": "stdout",
     "output_type": "stream",
     "text": [
      "Train Accuracy: 60.227273\n"
     ]
    }
   ],
   "source": [
    "pred = predict(X,per_w,per_b)\n",
    "print('Train Accuracy: %f'%(np.mean(pred == y_data) * 100))"
   ]
  },
  {
   "cell_type": "code",
   "execution_count": 32,
   "metadata": {},
   "outputs": [],
   "source": [
    "def plot_decision_boundary(w, b, X, y):\n",
    "    # Credit to dibgerge on Github for this plotting code\n",
    "     \n",
    "    plot_data(X[:, 0:2], y)\n",
    "    \n",
    "    if X.shape[1] <= 2:\n",
    "        plot_x = np.array([min(X[:, 0]), max(X[:, 0])])\n",
    "        plot_y = (-1. / w[1]) * (w[0] * plot_x + b)\n",
    "        \n",
    "        plt.plot(plot_x, plot_y, c=\"b\")\n",
    "        \n",
    "    else:\n",
    "        # x_features  = ['diagnosis'0-4 ,'loc'0-1,'stereo'0-1,'sex'0-1,'ki','gtv']\n",
    "        ki = np.linspace(-1, 1.5, 50)\n",
    "        gvt = np.linspace(-1, 1.5, 50)\n",
    "        \n",
    "        z = np.zeros()\n",
    "\n",
    "        # Evaluate z = theta*x over the grid\n",
    "        for k in range(len(ki)):\n",
    "            for g in range(len(gvt)):\n",
    "                for d in range(5):\n",
    "                    for l in range(2):\n",
    "                        for s in range(2):\n",
    "                            for sex in range(2):\n",
    "                                        z[k,g] = sig(np.dot( (d,l,s,sex, ki[k], gvt[g] ), w) + b)\n",
    "        \n",
    "        # important to transpose z before calling contour       \n",
    "        z = z.T\n",
    "        \n",
    "        # Plot z = 0\n",
    "        plt.contour(ki,gvt,z, levels = [0.5], colors=\"g\")"
   ]
  },
  {
   "cell_type": "code",
   "execution_count": 33,
   "metadata": {},
   "outputs": [
    {
     "ename": "TypeError",
     "evalue": "plot_data() missing 1 required positional argument: 'ax'",
     "output_type": "error",
     "traceback": [
      "\u001b[1;31m---------------------------------------------------------------------------\u001b[0m",
      "\u001b[1;31mTypeError\u001b[0m                                 Traceback (most recent call last)",
      "Cell \u001b[1;32mIn[33], line 1\u001b[0m\n\u001b[1;32m----> 1\u001b[0m plot_decision_boundary(per_w,per_b,X,y_data)\n",
      "Cell \u001b[1;32mIn[32], line 4\u001b[0m, in \u001b[0;36mplot_decision_boundary\u001b[1;34m(w, b, X, y)\u001b[0m\n\u001b[0;32m      1\u001b[0m \u001b[39mdef\u001b[39;00m \u001b[39mplot_decision_boundary\u001b[39m(w, b, X, y):\n\u001b[0;32m      2\u001b[0m     \u001b[39m# Credit to dibgerge on Github for this plotting code\u001b[39;00m\n\u001b[1;32m----> 4\u001b[0m     plot_data(X[:, \u001b[39m0\u001b[39;49m:\u001b[39m2\u001b[39;49m], y)\n\u001b[0;32m      6\u001b[0m     \u001b[39mif\u001b[39;00m X\u001b[39m.\u001b[39mshape[\u001b[39m1\u001b[39m] \u001b[39m<\u001b[39m\u001b[39m=\u001b[39m \u001b[39m2\u001b[39m:\n\u001b[0;32m      7\u001b[0m         plot_x \u001b[39m=\u001b[39m np\u001b[39m.\u001b[39marray([\u001b[39mmin\u001b[39m(X[:, \u001b[39m0\u001b[39m]), \u001b[39mmax\u001b[39m(X[:, \u001b[39m0\u001b[39m])])\n",
      "\u001b[1;31mTypeError\u001b[0m: plot_data() missing 1 required positional argument: 'ax'"
     ]
    }
   ],
   "source": [
    "\n",
    "plot_decision_boundary(per_w,per_b,X,y_data)"
   ]
  }
 ],
 "metadata": {
  "kernelspec": {
   "display_name": "Python 3",
   "language": "python",
   "name": "python3"
  },
  "language_info": {
   "codemirror_mode": {
    "name": "ipython",
    "version": 3
   },
   "file_extension": ".py",
   "mimetype": "text/x-python",
   "name": "python",
   "nbconvert_exporter": "python",
   "pygments_lexer": "ipython3",
   "version": "3.11.3"
  },
  "orig_nbformat": 4
 },
 "nbformat": 4,
 "nbformat_minor": 2
}
