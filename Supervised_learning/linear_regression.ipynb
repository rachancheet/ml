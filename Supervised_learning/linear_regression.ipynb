{
 "cells": [
  {
   "cell_type": "code",
   "execution_count": 1,
   "metadata": {},
   "outputs": [],
   "source": [
    "# trying to write my own linear regression algorithm\n",
    "# input np array with x and y values\n",
    "import numpy as np \n",
    "import math"
   ]
  },
  {
   "cell_type": "code",
   "execution_count": 2,
   "metadata": {},
   "outputs": [],
   "source": [
    "def range_w_b(data):\n",
    "    min_x = data[0,0]\n",
    "    min_y = data[0,1]\n",
    "    max_y = data[0,1]\n",
    "    max_x = data[0,0]\n",
    "    for i in data:\n",
    "        x = i[0]\n",
    "        y = i[1]\n",
    "        if x < min_x:\n",
    "            min_x = x\n",
    "        if x > max_x:\n",
    "            max_x = x\n",
    "        if y < min_y:  \n",
    "            min_y = y\n",
    "        if y > max_y:\n",
    "            max_y = y\n",
    "    return min_x, min_y, max_x, max_y"
   ]
  },
  {
   "cell_type": "code",
   "execution_count": 3,
   "metadata": {},
   "outputs": [],
   "source": [
    "def func_min_j(data ,min_x, min_y, max_x, max_y):\n",
    "    output = open(\"output.txt\", \"w\")\n",
    "\n",
    "    # w = mod[max_y - min_y, max_x-min_x]\n",
    "#    b= [max_y,-max_y]\n",
    "    min_x = int(min_x)\n",
    "    min_y = int(min_y)\n",
    "    max_x = int(max_x)\n",
    "    max_y = int(max_y)\n",
    "\n",
    "    max_slope = int(math.ceil((abs((max_y - min_y)/(max_x-min_x)))))\n",
    "    min_j = 10000000\n",
    "    per_w = data[0,0]\n",
    "    per_b = data[0,1]\n",
    "\n",
    "    # plt_j=np.array([max_slope*2,3], dtype=\n",
    "    # print(min_x, min_y, max_x, max_y,max_slope)\n",
    "    for w in range(-max_slope,max_slope+1):\n",
    "        for b in range(-max_y,max_y):\n",
    "            j=0\n",
    "            for gh in data:\n",
    "                j += abs(w*gh[0]+b - gh[1]) \n",
    "                if j > min_j:\n",
    "                    break\n",
    "            # print(f\"w:{w}b:{b}j:{j}\\n--------------------------------\\n\")\n",
    "            # output.write(f\"w:{w}  b:{b}  j:{j}\\n--------------------------------\\n\")\n",
    "            if j<min_j:\n",
    "                min_j = j\n",
    "                per_w=w\n",
    "                per_b =b\n",
    "                \n",
    "    print(f\"w:{per_w}  b:{per_b}  min_j:{min_j}\\n--------------------------------\\n\")\n",
    "    output.write(f\"min_j :: {min_j}\")\n",
    "    output.close()\n",
    "    return min_j,per_w,per_b\n"
   ]
  },
  {
   "cell_type": "code",
   "execution_count": 4,
   "metadata": {},
   "outputs": [],
   "source": [
    "def predict_graph(data,w,b):\n",
    "    j= np.zeros([data.shape[0],2])\n",
    "    k=0\n",
    "    for d in data:\n",
    "        j[k] = [d[0],w*d[0]+b]\n",
    "        k+=1\n",
    "    return j"
   ]
  },
  {
   "cell_type": "code",
   "execution_count": 5,
   "metadata": {},
   "outputs": [
    {
     "data": {
      "text/plain": [
       "array([[24, 27],\n",
       "       [16,  6],\n",
       "       [ 5, 10],\n",
       "       ...,\n",
       "       [10, 13],\n",
       "       [28,  4],\n",
       "       [ 9, 21]])"
      ]
     },
     "execution_count": 5,
     "metadata": {},
     "output_type": "execute_result"
    }
   ],
   "source": [
    "data = np.random.randint(0,30,[2000,2],dtype=int)\n",
    "data"
   ]
  },
  {
   "cell_type": "code",
   "execution_count": 6,
   "metadata": {},
   "outputs": [],
   "source": [
    "def binary_min_j(data ,min_x, min_y, max_x, max_y):\n",
    "    output = open(\"output.txt\", \"w\")\n",
    "\n",
    "    # w = mod[max_y - min_y, max_x-min_x]\n",
    "#    b= [max_y,-max_y]\n",
    "    min_x = int(min_x)\n",
    "    min_y = int(min_y)\n",
    "    max_x = int(max_x)\n",
    "    max_y = int(max_y)\n",
    "\n",
    "    max_slope = int(math.ceil((abs((max_y - min_y)/(max_x-min_x)))))\n",
    "    min_j = 100000000000\n",
    "    per_w = data[0,0]\n",
    "    per_b = data[0,1]\n",
    "\n",
    "    e_w=max_slope\n",
    "    s_w = -max_slope\n",
    "    e_b= max_y\n",
    "    s_b = -max_y\n",
    "    while (s_w<e_w):\n",
    "        m_w = (e_w +s_w)/2\n",
    "        j = 0\n",
    "        min_b_j = 10000000000\n",
    "        while (s_b<e_b):\n",
    "            j_b =0\n",
    "            m_b=(s_b+e_b)/2\n",
    "            for d in data:\n",
    "                j_b += abs(m_w*d[0]+m_b - d[1])\n",
    "            # print(f\"w:{w}b:{b}j:{j}\\n--------------------------------\\n\")\n",
    "    #         output.write(f\"w:{w}  b:{b}  j:{j}\\n--------------------------------\\n\")\n",
    "            if j_b<min_b_j:\n",
    "                min_b_j = j_b\n",
    "                per_b = m_b\n",
    "                e_b = m_b\n",
    "                print(\"m_b :: \",m_b)\n",
    "            else :\n",
    "                print(\"ok\")\n",
    "                s_b = m_b+1\n",
    "        for d in data:\n",
    "                j += abs(m_w*d[0]+per_b - d[1])\n",
    "#         print(j,\":::\",min_j)\n",
    "        if j<min_j:\n",
    "            print(\"m_w :: \",m_w)\n",
    "            min_j = j\n",
    "            per_w = m_w\n",
    "            e_w = m_w\n",
    "            \n",
    "        else : \n",
    "            s_w = m_w+1\n",
    "\n",
    "    print(f\"w:{per_w}  b:{per_b}  min_j:{min_j}\\n--------------------------------\\n\")\n",
    "\n",
    "\n",
    "\n",
    "    # plt_j=np.array([max_slope*2,3], dtype=\n",
    "    # print(min_x, min_y, max_x, max_y,max_slope)\n",
    "    # for w in range(-max_slope,max_slope+1):\n",
    "    #     for b in range(-max_y,max_y):\n",
    "    #         j=0\n",
    "    #         for gh in data:\n",
    "    #             j += abs(w*gh[0]+b - gh[1]) \n",
    "    #             if j > min_j:\n",
    "    #                 break\n",
    "    #         print(f\"w:{w}b:{b}j:{j}\\n--------------------------------\\n\")\n",
    "    #         output.write(f\"w:{w}  b:{b}  j:{j}\\n--------------------------------\\n\")\n",
    "    #         if j<min_j:\n",
    "    #             min_j = j\n",
    "    #             per_w=w\n",
    "    #             per_b =b\n",
    "    # print(min_x, min_y, max_x, max_y,max_slope)\n",
    "    # output.write(f\"min_j :: {min_j}\")\n",
    "    # output.close()\n",
    "    return min_j,per_w,per_b\n"
   ]
  },
  {
   "cell_type": "code",
   "execution_count": 7,
   "metadata": {},
   "outputs": [
    {
     "name": "stdout",
     "output_type": "stream",
     "text": [
      "w:0  b:14  min_j:14647\n",
      "--------------------------------\n",
      "\n"
     ]
    }
   ],
   "source": [
    "min_x, min_y, max_x, max_y = range_w_b(data)\n",
    "# print(type(min_x))\n",
    "min_j,per_w,per_b = func_min_j(data , min_x, min_y, max_x, max_y)\n",
    "# predict_plt = predict_graph(data,per_w,per_b)\n",
    "# # print(data)\n",
    "# predict_plt = np.array(predict_plt)\n",
    "# # print(predict_plt)\n",
    "# import matplotlib.pyplot as plt\n",
    "# plt.scatter(data[:,0],data[:,1])\n",
    "# plt.plot(predict_plt[:,0],predict_plt[:,1])\n",
    "# plt.show()\n"
   ]
  },
  {
   "cell_type": "code",
   "execution_count": 8,
   "metadata": {
    "scrolled": true
   },
   "outputs": [
    {
     "name": "stdout",
     "output_type": "stream",
     "text": [
      "m_b ::  0.0\n",
      "ok\n",
      "ok\n",
      "ok\n",
      "ok\n",
      "m_w ::  0.0\n",
      "w:0.0  b:0.0  min_j:28351.0\n",
      "--------------------------------\n",
      "\n"
     ]
    }
   ],
   "source": [
    "min_j,per_w,per_b = binary_min_j(data , min_x, min_y, max_x, max_y)\n",
    "predict_plt = predict_graph(data,per_w,per_b)\n",
    "# print(data)\n",
    "# predict_plt = np.array(predict_plt)\n",
    "# # print(predict_plt)\n",
    "# import matplotlib.pyplot as plt\n",
    "# plt.scatter(data[:,0],data[:,1])\n",
    "# plt.plot(predict_plt[:,0],predict_plt[:,1])\n",
    "# plt.show()\n"
   ]
  },
  {
   "cell_type": "code",
   "execution_count": null,
   "metadata": {},
   "outputs": [],
   "source": []
  },
  {
   "cell_type": "code",
   "execution_count": null,
   "metadata": {},
   "outputs": [],
   "source": []
  }
 ],
 "metadata": {
  "kernelspec": {
   "display_name": "Python 3 (ipykernel)",
   "language": "python",
   "name": "python3"
  },
  "language_info": {
   "codemirror_mode": {
    "name": "ipython",
    "version": 3
   },
   "file_extension": ".py",
   "mimetype": "text/x-python",
   "name": "python",
   "nbconvert_exporter": "python",
   "pygments_lexer": "ipython3",
   "version": "3.11.3"
  }
 },
 "nbformat": 4,
 "nbformat_minor": 2
}
