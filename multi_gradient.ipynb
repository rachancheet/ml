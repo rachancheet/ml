{
 "cells": [
  {
   "cell_type": "code",
   "execution_count": 293,
   "metadata": {},
   "outputs": [],
   "source": [
    "import numpy as np\n",
    "import pandas as pd\n",
    "import matplotlib.pyplot as pl\n",
    "import math"
   ]
  },
  {
   "cell_type": "code",
   "execution_count": 294,
   "metadata": {},
   "outputs": [
    {
     "data": {
      "text/plain": [
       "array([[3606,  283,    2,   34,   11],\n",
       "       [6645,  483,    3,   82,   15],\n",
       "       [7075,  514,    4,   71,   11],\n",
       "       ...,\n",
       "       [4381,  321,    3,   74,   17],\n",
       "       [2672,  204,    1,   70,   18],\n",
       "       [5051,  372,    3,   76,   11]], dtype=int64)"
      ]
     },
     "execution_count": 294,
     "metadata": {},
     "output_type": "execute_result"
    }
   ],
   "source": [
    "data = pd.read_csv(\"./data from book/Credit.csv\")\n",
    "\n",
    "\n",
    "x_data = np.array(data[[\"Limit\",\"Rating\",\"Cards\",\"Age\",\"Education\"]])\n",
    "\n",
    "y_data = np.array(data[\"Income\"])\n",
    "x_test = x_data[300:400]\n",
    "y_test = y_data[300:400]\n",
    "x_data = x_data[0:300]\n",
    "y_data = y_data[0:300]\n",
    "sample_size = x_data.shape[0]\n",
    "test_size = x_test.shape[0]\n",
    "\n",
    "x_data"
   ]
  },
  {
   "cell_type": "code",
   "execution_count": 295,
   "metadata": {},
   "outputs": [],
   "source": [
    "def min__j(x_data,y_data,w,b):\n",
    "    j= 0\n",
    "    for i in range(x_data.shape[0]):\n",
    "        j+=(np.dot(x_data[i],w)+b- (y_data[i]))**2\n",
    "    ghj = (2*x_data.shape[0])\n",
    "    return j/ghj"
   ]
  },
  {
   "cell_type": "code",
   "execution_count": 296,
   "metadata": {},
   "outputs": [],
   "source": [
    "\n",
    "def gradient(x_data,y_data, w, b):\n",
    "    j_i = np.zeros(w.shape[0])\n",
    "    j_j = 0\n",
    "    m = x_data.shape[0]\n",
    "    for i in range(x_data.shape[0]):\n",
    "        k = (np.dot(x_data[i],w)+b- (y_data[i]))\n",
    "        if(math.isnan(k)==True):\n",
    "            # print(\"k is NA\")\n",
    "            pass\n",
    "        for gb in range(w.shape[0]): \n",
    "            j_i[gb] += (k*x_data[i][gb])\n",
    "        \n",
    "        j_j += k\n",
    "     \n",
    "    grad = [1/m * j_i, 1/m * j_j]\n",
    "    return grad"
   ]
  },
  {
   "cell_type": "code",
   "execution_count": 297,
   "metadata": {},
   "outputs": [],
   "source": [
    "# fixing learning rate\n",
    "fix = []"
   ]
  },
  {
   "cell_type": "code",
   "execution_count": 298,
   "metadata": {},
   "outputs": [],
   "source": [
    "def gradient_descent(x_data,y_data,w,b):\n",
    "    dist = 0.00000006\n",
    "    hist =[]\n",
    "    count =0\n",
    "    iter = 10\n",
    "    for i in range(iter):\n",
    "        count +=1\n",
    "        dj_dw,dj_db =  gradient(x_data,y_data,w,b)\n",
    "\n",
    "\n",
    "        w = w-(dist*dj_dw)\n",
    "        b = b-(dist*dj_db)\n",
    "\n",
    "        value_j = min__j(x_data,y_data,w,b)\n",
    "        fix.append([i,value_j])\n",
    "        if i ==iter-1 or i==0 or i%10 ==0:\n",
    "            print(w,b,\"-------------------------------- j: \",value_j,\"dj_dw: \",dj_dw,\"dj_db: \",dj_db)\n",
    "      \n",
    "    return w,b\n"
   ]
  },
  {
   "cell_type": "code",
   "execution_count": 299,
   "metadata": {},
   "outputs": [],
   "source": [
    "def predict_graph(x_data,w,b):\n",
    "    # pred = np.zeros([x_data.shape[0],])\n",
    "    pred = np.zeros([x_data.shape[0]])\n",
    "    for i in range(test_size):\n",
    "        pred[i] = np.dot(x_data[i],w) +b\n",
    "    return pred"
   ]
  },
  {
   "cell_type": "code",
   "execution_count": 300,
   "metadata": {},
   "outputs": [
    {
     "name": "stdout",
     "output_type": "stream",
     "text": [
      "[1.57270023e-02 1.15576856e-03 8.07927620e-06 1.49630784e-04\n",
      " 3.49602264e-05] 2.6432636000000007e-06 -------------------------------- j:  700.6402174466953 dj_dw:  [-2.62116704e+05 -1.92628093e+04 -1.34654603e+02 -2.49384639e+03\n",
      " -5.82670440e+02] dj_db:  -44.05439333333335\n",
      "[9.81401382e-03 6.92536889e-04 1.74046909e-06 6.80387562e-05\n",
      " 7.13158399e-06] 6.018937706279713e-07 -------------------------------- j:  241.78617804239636 dj_dw:  [2412.90425528  228.78020368    7.16096965   68.39027156   31.70381975] dj_db:  2.28460257968436\n",
      "[9.81401382e-03 6.92536889e-04 1.74046909e-06 6.80387562e-05\n",
      " 7.13158399e-06] 6.018937706279713e-07\n"
     ]
    }
   ],
   "source": [
    "# w = np.zeros([5])\n",
    "w = np.zeros(x_data.shape[1])\n",
    "\n",
    "b=0\n",
    "per_w,per_b = gradient_descent(x_data,y_data,w,b)\n",
    "print(per_w, per_b)\n"
   ]
  },
  {
   "cell_type": "code",
   "execution_count": 301,
   "metadata": {},
   "outputs": [
    {
     "data": {
      "image/png": "[encoded data removed]",
      "text/plain": [
       "<Figure size 640x480 with 1 Axes>"
      ]
     },
     "metadata": {},
     "output_type": "display_data"
    }
   ],
   "source": [
    "fix = np.array(fix)\n",
    "pl.plot(fix[:,0], fix[:,1])\n",
    "pl.xlabel(\"#iterations\")\n",
    "pl.ylabel(\"value_j)\")\n",
    "pl.show()"
   ]
  },
  {
   "cell_type": "code",
   "execution_count": 302,
   "metadata": {},
   "outputs": [
    {
     "name": "stdout",
     "output_type": "stream",
     "text": [
      "[9.81401382e-03 6.92536889e-04 1.74046909e-06 6.80387562e-05\n",
      " 7.13158399e-06] 6.018937706279713e-07\n",
      " Limit Rating Cards Age Education\n",
      "[4632  355    1   50   17]         45.708 21.786\n",
      "[3526  289    3   38    7]         34.807 31.335\n",
      "[4964  365    1   46   13]         48.973 59.855\n",
      "[4970  352    1   79   11]         49.025 44.061\n",
      "[7506  536    2   64   13]         74.04 82.706\n",
      "[1924  165    2   50   14]         19.0 24.46\n",
      "[3762  287    3   80    8]         37.125 45.12\n",
      "[3874  298    3   41   14]         38.229 75.406\n",
      "[4640  332    2   33    6]         45.769 14.956\n",
      "[7010  494    3   34   18]         69.141 75.257\n",
      "[4891  369    1   52   16]         48.26 33.694\n",
      "[5429  396    3   57   15]         53.559 23.375\n",
      "[5227  386    6   63   11]         51.57 27.825\n",
      "[7685  534    2   75   18]         75.796 92.386\n",
      "[9272  656    2   69   14]         91.455 115.52\n",
      "[3907  296    3   43   16]         38.551 14.479\n",
      "[7306  522    2   57   14]         72.067 52.179\n",
      "[4712  340    2   71   16]         46.484 68.462\n",
      "[1485  129    3   82   13]         14.669 18.951\n",
      "[2586  229    5   54   16]         25.541 27.59\n",
      "[1160  126    3   78   13]         11.477 16.279\n",
      "[3096  236    2   27   15]         30.55 25.078\n",
      "[3484  282    6   51   11]         34.391 27.229\n",
      "[13913   982     4    98    17]         137.229 182.728\n",
      "[2863  223    2   66   17]         28.257 31.029\n",
      "[5072  364    1   66   12]         50.033 17.765\n",
      "[10230   721     3    82    16]         100.902 125.48\n",
      "[6662  508    3   68   14]         65.738 49.166\n",
      "[3673  297    3   54   16]         36.256 41.192\n",
      "[7576  527    2   44   16]         74.719 94.193\n",
      "[4543  329    2   72   17]         44.818 20.405\n",
      "[3976  291    2   48   16]         39.225 12.581\n",
      "[5228  377    3   83   15]         51.575 62.328\n",
      "[3402  261    2   68   17]         33.573 21.011\n",
      "[4756  351    2   64   15]         46.923 24.23\n",
      "[3409  270    2   23    7]         33.645 24.314\n",
      "[5884  438    4   68   13]         58.054 32.856\n",
      "[855 119   3  32  12]         8.476 12.414\n",
      "[5303  377    1   45   14]         52.308 41.365\n",
      "[10278   707     1    80    16]         101.364 149.316\n",
      "[3807  301    4   35    8]         37.573 27.794\n",
      "[3922  299    2   77   17]         38.703 13.234\n",
      "[2955  260    5   37    9]         29.183 14.595\n",
      "[3746  280    2   44   17]         36.96 10.735\n",
      "[5199  401    7   39   10]         51.304 48.218\n",
      "[1511  137    2   33   17]         14.926 30.012\n",
      "[5380  420    5   51   18]         53.094 21.551\n",
      "[10748   754     2    69    17]         106.008 160.231\n",
      "[1134  112    3   70   14]         11.212 13.433\n",
      "[5145  389    3   71   13]         50.767 48.577\n",
      "[1561  155    4   70   13]         15.432 30.002\n",
      "[5140  374    1   71    9]         50.708 61.62\n",
      "[7140  507    2   41   14]         70.426 104.483\n",
      "[4716  342    2   47   18]         46.523 41.868\n",
      "[3873  292    1   44   18]         38.215 12.068\n",
      "[11966   832     2    58     8]         118.015 180.682\n",
      "[6090  442    3   36   14]         60.076 34.48\n",
      "[2539  188    1   40   14]         25.051 39.609\n",
      "[4336  339    1   81   18]         42.794 30.111\n",
      "[4471  344    3   79   12]         44.122 12.335\n",
      "[5891  434    4   82   10]         58.121 53.566\n",
      "[4943  362    2   46   16]         48.765 53.217\n",
      "[5101  382    3   62   19]         50.33 26.162\n",
      "[6127  433    1   80   10]         60.436 64.173\n",
      "[9824  685    3   67   16]         96.892 128.669\n",
      "[6442  489    4   69   15]         63.565 113.772\n",
      "[7871  564    3   56   14]         77.641 61.069\n",
      "[3615  263    2   70   14]         35.665 23.793\n",
      "[5759  440    3   37    6]         56.826 89.0\n",
      "[8028  599    3   57   16]         79.206 71.682\n",
      "[6135  466    4   40   12]         60.535 35.61\n",
      "[2150  173    4   75   15]         21.225 39.116\n",
      "[3782  293    2   46   16]         37.323 19.782\n",
      "[5354  383    2   37   16]         52.812 55.412\n",
      "[4840  368    3   76   18]         47.76 29.4\n",
      "[5673  413    5   44   16]         55.964 20.974\n",
      "[7167  515    2   46   10]         70.697 87.625\n",
      "[1567  142    3   51   10]         15.48 28.144\n",
      "[4941  366    1   33   19]         48.747 19.349\n",
      "[2860  214    1   84   10]         28.222 53.308\n",
      "[7760  538    3   83   14]         76.535 115.123\n",
      "[8029  574    2   84   11]         79.2 101.788\n",
      "[5495  409    1   33    9]         54.214 24.824\n",
      "[3274  282    9   64    9]         32.331 14.292\n",
      "[1870  180    3   76   16]         18.482 20.088\n",
      "[5640  398    3   58   15]         55.631 26.4\n",
      "[3683  287    4   57   10]         36.348 19.253\n",
      "[1357  126    3   62    9]         13.409 16.529\n",
      "[6827  482    2   80   13]         67.34 37.878\n",
      "[7100  503    2   44   18]         70.031 83.948\n",
      "[10578   747     3    81    15]         104.336 135.118\n",
      "[6555  472    2   43   15]         64.661 73.327\n",
      "[2308  196    2   24   10]         22.788 25.974\n",
      "[1335  138    2   65   13]         13.202 17.316\n",
      "[5758  410    4   40    8]         56.796 49.794\n",
      "[4100  307    3   32   13]         40.452 12.096\n",
      "[3838  296    5   65   17]         37.876 13.364\n",
      "[4171  321    5   67   12]         41.161 57.872\n",
      "[2525  192    1   44   13]         24.916 37.728\n",
      "[5524  415    5   64    7]         54.504 18.701\n"
     ]
    }
   ],
   "source": [
    "def show_predictions(x_test,y_test,per_w,per_b):\n",
    "    print(per_w,per_b)\n",
    "    pred = predict_graph(x_test,per_w,per_b)\n",
    "    print(\" Limit\",\"Rating\",\"Cards\",\"Age\",\"Education\")\n",
    "    for i in range(test_size):\n",
    "        print(x_test[i],\"       \",round(pred[i],3),y_test[i]) \n",
    "\n",
    "\n",
    "show_predictions(x_test,y_test,per_w,per_b)\n"
   ]
  },
  {
   "cell_type": "code",
   "execution_count": 303,
   "metadata": {},
   "outputs": [],
   "source": [
    "def accuracy(x_test,y_test,w,b,):\n",
    "    pred = predict_graph(x_test,w,b)\n",
    "    error = 0\n",
    "    for i in range(pred.shape[0]):\n",
    "        error += abs(y_test[i] - pred[i])/y_test[i]\n",
    "\n",
    "    # t =np.sum(y_test)\n",
    "    # k = np.sum(pred)\n",
    "    error /= y_test.shape[0]  \n",
    "    error *= 100\n",
    "    return error"
   ]
  },
  {
   "cell_type": "code",
   "execution_count": 304,
   "metadata": {},
   "outputs": [
    {
     "name": "stdout",
     "output_type": "stream",
     "text": [
      "[9.81401382e-03 6.92536889e-04 1.74046909e-06 6.80387562e-05\n",
      " 7.13158399e-06] 6.018937706279713e-07\n"
     ]
    }
   ],
   "source": [
    "print(per_w,per_b)"
   ]
  },
  {
   "cell_type": "code",
   "execution_count": 305,
   "metadata": {},
   "outputs": [
    {
     "name": "stdout",
     "output_type": "stream",
     "text": [
      "61.028772978125815\n"
     ]
    }
   ],
   "source": [
    "print(accuracy(x_test, y_test,per_w,per_b))"
   ]
  },
  {
   "attachments": {},
   "cell_type": "markdown",
   "metadata": {},
   "source": []
  }
 ],
 "metadata": {
  "kernelspec": {
   "display_name": "Python 3",
   "language": "python",
   "name": "python3"
  },
  "language_info": {
   "codemirror_mode": {
    "name": "ipython",
    "version": 3
   },
   "file_extension": ".py",
   "mimetype": "text/x-python",
   "name": "python",
   "nbconvert_exporter": "python",
   "pygments_lexer": "ipython3",
   "version": "3.11.3"
  },
  "orig_nbformat": 4
 },
 "nbformat": 4,
 "nbformat_minor": 2
}
