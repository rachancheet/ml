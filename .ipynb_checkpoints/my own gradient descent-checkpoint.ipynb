{
 "cells": [
  {
   "cell_type": "code",
   "execution_count": 61,
   "id": "0503ffac",
   "metadata": {},
   "outputs": [
    {
     "ename": "SyntaxError",
     "evalue": "invalid syntax (863621877.py, line 2)",
     "output_type": "error",
     "traceback": [
      "\u001b[1;36m  Cell \u001b[1;32mIn[61], line 2\u001b[1;36m\u001b[0m\n\u001b[1;33m    from ./\"my own linear reresion.py\" import range_w_b,predict_graph,func_min_j\u001b[0m\n\u001b[1;37m          ^\u001b[0m\n\u001b[1;31mSyntaxError\u001b[0m\u001b[1;31m:\u001b[0m invalid syntax\n"
     ]
    }
   ],
   "source": [
    "import numpy as np\n",
    "from ./\"my own linear reresion.py\" import range_w_b,predict_graph,func_min_j"
   ]
  },
  {
   "cell_type": "code",
   "execution_count": 47,
   "id": "f36edc84",
   "metadata": {},
   "outputs": [],
   "source": [
    "# my function j(w,b) = w*x_total + m*b - y_total no because of negative error\n",
    "\n",
    "#data = [[x,y].[],[]\n",
    "#have to find value "
   ]
  },
  {
   "cell_type": "code",
   "execution_count": 48,
   "id": "5ac4d668",
   "metadata": {},
   "outputs": [],
   "source": [
    "#finding gradiant of j \n",
    "#assume w and b for statrting w=0 b=0\n",
    "# def totals(data):\n",
    "#     x_total = 0\n",
    "#     y_total = 0\n",
    "#     for d in data:\n",
    "#         x_total += d[0]\n",
    "#         y_total += d[1]\n",
    "#     return x_total,y_total\n",
    "\n",
    "#  gradient of j = submission of [1/m (w*d[0] + b -d[1])(d[0] + 1)]\n",
    "\n",
    "def gradiant(data,w,b):\n",
    "    j_i=0\n",
    "    j_j = 0\n",
    "    m = data.shape[0]\n",
    "    # calulating i of gradiant of j\n",
    "    for d in data:\n",
    "        k = (w*d[0] + b -d[1])\n",
    "        j_i += k*(d[0])\n",
    "        j_j += k\n",
    "        if j_i<200000000:\n",
    "            break\n",
    "        if j_i<200000000:\n",
    "            break\n",
    "    # print(\" j_i :\",j_i,\"j_j :\",j_j)\n",
    "    grad = [1/m * j_i,1/m *j_j]\n",
    "    return grad\n",
    "\n",
    "def travel(grad,dist,w,b):\n",
    "    w_n=0 \n",
    "    b_n = 0\n",
    "    # print(\"travelling\")\n",
    "#     print(grad)\n",
    "#     grad = list(map(lambda x,y:x*dist,y*dist,grad))\n",
    "#     grad = [x*dist for x in grad]\n",
    "#     print(grad)\n",
    "    w_n = w-dist*grad[0]\n",
    "    b_n = b-dist*grad[1]\n",
    "    return w_n,b_n\n",
    "\n",
    "\n",
    "\n",
    "    \n",
    "    # ′(μ)=−2∑ni=1(xi−μ) and f′′(μ)=2n\n",
    "    \n"
   ]
  },
  {
   "cell_type": "code",
   "execution_count": 53,
   "id": "bd17a899",
   "metadata": {},
   "outputs": [
    {
     "name": "stdout",
     "output_type": "stream",
     "text": [
      "0.0 1.0\n",
      "0.0 1.5\n",
      "0.0 1.75\n",
      "0.0 1.875\n",
      "0.0 1.9375\n",
      "0.0 1.96875\n",
      "0.0 1.984375\n",
      "0.0 1.9921875\n",
      "0.0 1.99609375\n",
      "0.0 1.998046875\n",
      "0.0 1.9990234375\n",
      "0.0 1.99951171875\n",
      "0.0 1.999755859375\n",
      "0.0 1.9998779296875\n",
      "0.0 1.99993896484375\n",
      "0.0 1.999969482421875\n",
      "0.0 1.9999847412109375\n",
      "0.0 1.9999923706054688\n",
      "0.0 1.9999961853027344\n",
      "0.0 1.9999980926513672\n",
      "0.0 1.9999990463256836\n",
      "0.0 1.9999995231628418\n",
      "0.0 1.999999761581421\n",
      "0.0 1.9999998807907104\n",
      "0.0 1.9999999403953552\n",
      "0.0 1.9999999701976776\n",
      "0.0 1.9999999850988388\n",
      "0.0 1.9999999925494194\n",
      "0.0 1.9999999962747097\n",
      "0.0 1.9999999981373549\n",
      "0.0 1.9999999990686774\n",
      "0.0 1.9999999995343387\n",
      "0.0 1.9999999997671694\n",
      "0.0 1.9999999998835847\n",
      "0.0 1.9999999999417923\n",
      "0.0 1.9999999999708962\n",
      "0.0 1.999999999985448\n",
      "0.0 1.999999999992724\n",
      "0.0 1.999999999996362\n",
      "0.0 1.999999999998181\n",
      "0.0 1.9999999999990905\n",
      "0.0 1.9999999999995453\n",
      "0.0 1.9999999999997726\n",
      "0.0 1.9999999999998863\n",
      "0.0 1.9999999999999432\n",
      "0.0 1.9999999999999716\n",
      "0.0 1.9999999999999858\n",
      "0.0 1.999999999999993\n",
      "0.0 1.9999999999999964\n",
      "0.0 1.9999999999999982\n",
      "0.0 1.9999999999999991\n",
      "0.0 1.9999999999999996\n",
      "0.0 1.9999999999999998\n",
      "0.0 2.0\n"
     ]
    }
   ],
   "source": [
    "# let inital w=0 and b=0\n",
    "\n",
    "w=0\n",
    "b=0\n",
    "dist = 5\n",
    "while gradiant(data,w,b) != [0.0,0.0]:\n",
    "    w,b  =travel(gradiant(data,w,b),dist,w,b)\n",
    "    print(w,b)\n",
    "\n"
   ]
  },
  {
   "cell_type": "code",
   "execution_count": 54,
   "id": "e2205527",
   "metadata": {},
   "outputs": [
    {
     "ename": "NameError",
     "evalue": "name 'range_w_b' is not defined",
     "output_type": "error",
     "traceback": [
      "\u001b[1;31m---------------------------------------------------------------------------\u001b[0m",
      "\u001b[1;31mNameError\u001b[0m                                 Traceback (most recent call last)",
      "Cell \u001b[1;32mIn[54], line 1\u001b[0m\n\u001b[1;32m----> 1\u001b[0m min_x, min_y, max_x, max_y \u001b[38;5;241m=\u001b[39m \u001b[43mrange_w_b\u001b[49m(data)\n\u001b[0;32m      2\u001b[0m min_j,per_w,per_b \u001b[38;5;241m=\u001b[39m func_min_j(data , min_x, min_y, max_x, max_y)\n\u001b[0;32m      3\u001b[0m \u001b[38;5;28mprint\u001b[39m(per_w,per_b)\n",
      "\u001b[1;31mNameError\u001b[0m: name 'range_w_b' is not defined"
     ]
    }
   ],
   "source": [
    "min_x, min_y, max_x, max_y = range_w_b(data)\n",
    "min_j,per_w,per_b = func_min_j(data , min_x, min_y, max_x, max_y)\n",
    "print(per_w,per_b)"
   ]
  },
  {
   "cell_type": "code",
   "execution_count": 49,
   "id": "2db62f12",
   "metadata": {},
   "outputs": [
    {
     "data": {
      "text/plain": [
       "<matplotlib.collections.PathCollection at 0x1a794130ed0>"
      ]
     },
     "execution_count": 49,
     "metadata": {},
     "output_type": "execute_result"
    },
    {
     "data": {
      "image/png": "[encoded data removed]",
      "text/plain": [
       "<Figure size 640x480 with 1 Axes>"
      ]
     },
     "metadata": {},
     "output_type": "display_data"
    }
   ],
   "source": [
    "import matplotlib.pyplot as pl\n",
    "data = np.random.randint(0,10,[10,2])\n",
    "# data\n",
    "pl.scatter(data[:,0],data[:,1])\n"
   ]
  },
  {
   "cell_type": "code",
   "execution_count": 51,
   "id": "9ea213ce",
   "metadata": {},
   "outputs": [
    {
     "data": {
      "text/plain": [
       "[10, 5]"
      ]
     },
     "execution_count": 51,
     "metadata": {},
     "output_type": "execute_result"
    }
   ],
   "source": [
    "grad = [2,1]\n",
    "grad = [x*dist for x in grad]\n",
    "grad"
   ]
  }
 ],
 "metadata": {
  "kernelspec": {
   "display_name": "Python 3 (ipykernel)",
   "language": "python",
   "name": "python3"
  },
  "language_info": {
   "codemirror_mode": {
    "name": "ipython",
    "version": 3
   },
   "file_extension": ".py",
   "mimetype": "text/x-python",
   "name": "python",
   "nbconvert_exporter": "python",
   "pygments_lexer": "ipython3",
   "version": "3.11.3"
  }
 },
 "nbformat": 4,
 "nbformat_minor": 5
}
