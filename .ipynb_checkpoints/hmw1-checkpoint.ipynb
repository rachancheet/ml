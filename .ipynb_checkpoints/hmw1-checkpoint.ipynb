{
 "cells": [
  {
   "cell_type": "code",
   "execution_count": 6,
   "id": "539fc673",
   "metadata": {},
   "outputs": [],
   "source": [
    "import pandas as pd\n",
    "import numpy as np\n",
    "import matplotlib.pyplot as pt"
   ]
  },
  {
   "cell_type": "code",
   "execution_count": 7,
   "id": "6a23db45",
   "metadata": {},
   "outputs": [],
   "source": [
    "data = np.loadtxt(\"C:\\code\\ml\\Coursera\\material\\C1 - Supervised Machine Learning - Regression and Classification\\week2\\C1W2A1\\data\\ex1data1.txt\",delimiter = ',')\n",
    "x_data = data[:,0]\n",
    "y_data = data[:,1]"
   ]
  },
  {
   "cell_type": "code",
   "execution_count": 8,
   "id": "855af09d",
   "metadata": {},
   "outputs": [],
   "source": [
    "data = np.loadtxt(\"C:\\code\\ml\\Coursera\\material\\C1 - Supervised Machine Learning - Regression and Classification\\week2\\C1W2A1\\data\\ex1data2.txt\",delimiter = ',')\n",
    "x_test = data[:,0]\n",
    "y_test = data[:,1]"
   ]
  },
  {
   "cell_type": "code",
   "execution_count": 9,
   "id": "a0922490",
   "metadata": {},
   "outputs": [
    {
     "ename": "NameError",
     "evalue": "name 'pl' is not defined",
     "output_type": "error",
     "traceback": [
      "\u001b[1;31m---------------------------------------------------------------------------\u001b[0m",
      "\u001b[1;31mNameError\u001b[0m                                 Traceback (most recent call last)",
      "Cell \u001b[1;32mIn[9], line 1\u001b[0m\n\u001b[1;32m----> 1\u001b[0m \u001b[43mpl\u001b[49m\u001b[38;5;241m.\u001b[39mscatter(x_data,y_data)\n\u001b[0;32m      2\u001b[0m pl\u001b[38;5;241m.\u001b[39mshow()\n",
      "\u001b[1;31mNameError\u001b[0m: name 'pl' is not defined"
     ]
    }
   ],
   "source": [
    "pt.scatter(x_data,y_data)\n",
    "pt.show()"
   ]
  }
 ],
 "metadata": {
  "kernelspec": {
   "display_name": "Python 3 (ipykernel)",
   "language": "python",
   "name": "python3"
  },
  "language_info": {
   "codemirror_mode": {
    "name": "ipython",
    "version": 3
   },
   "file_extension": ".py",
   "mimetype": "text/x-python",
   "name": "python",
   "nbconvert_exporter": "python",
   "pygments_lexer": "ipython3",
   "version": "3.11.3"
  }
 },
 "nbformat": 4,
 "nbformat_minor": 5
}
