{
 "cells": [
  {
   "cell_type": "code",
   "execution_count": 2,
   "metadata": {},
   "outputs": [],
   "source": [
    "import numpy as np\n",
    "import matplotlib.pyplot as pl\n",
    "import random\n",
    "import tensorflow as tf\n",
    "from tensorflow.keras.models import Sequential\n",
    "from tensorflow.keras.layers import Dense\n"
   ]
  },
  {
   "cell_type": "code",
   "execution_count": 3,
   "metadata": {},
   "outputs": [
    {
     "name": "stdout",
     "output_type": "stream",
     "text": [
      "tf.Tensor(\n",
      "[[138]\n",
      " [133]], shape=(2, 1), dtype=int32)\n"
     ]
    }
   ],
   "source": [
    "k  = tf.constant([[1,2,3],[1,6,2]])\n",
    "g  = tf.constant([2,3,2,32,13,2,242,4])\n",
    "v = tf.constant([123,0,5])\n",
    "v = tf.reshape(v,[-1,1])\n",
    "\n",
    "print(tf.linalg.matmul(k,v))"
   ]
  },
  {
   "cell_type": "code",
   "execution_count": 4,
   "metadata": {},
   "outputs": [
    {
     "name": "stdout",
     "output_type": "stream",
     "text": [
      "tf.Tensor(\n",
      "[[ 1  6 12]\n",
      " [ 2  6 12]\n",
      " [ 3  6 12]], shape=(3, 3), dtype=int32)\n"
     ]
    }
   ],
   "source": [
    "x = tf.constant([[1,2,3],[1,2,3],[1,2,3]])\n",
    "# y = tf.constant([[1,3,4],[2,3,4],[3,3,4]])\n",
    "# x = np.array([[1,2,3],[1,2,3],[1,2,3]])\n",
    "y = np.array([[1,3,4],[2,3,4    ],[3,3,4]])\n",
    "print(x*y)"
   ]
  },
  {
   "cell_type": "code",
   "execution_count": 13,
   "metadata": {},
   "outputs": [
    {
     "data": {
      "text/plain": [
       "<tf.Tensor: shape=(6,), dtype=int32, numpy=array([    1,     2,     2,    32,    13, 69213])>"
      ]
     },
     "execution_count": 13,
     "metadata": {},
     "output_type": "execute_result"
    }
   ],
   "source": [
    "t=tf.constant([[1,2,2,32,1323,213],[1,2,2,32,13,69213]])\n",
    "t[-1]"
   ]
  },
  {
   "cell_type": "code",
   "execution_count": 8,
   "metadata": {},
   "outputs": [
    {
     "data": {
      "text/plain": [
       "array([[   1,    2,    2,   32, 1323,  213],\n",
       "       [   1,    2,    2,   32, 1323,  213]])"
      ]
     },
     "execution_count": 8,
     "metadata": {},
     "output_type": "execute_result"
    }
   ],
   "source": [
    "np.array([[1,2,2,32,1323,213],[1,2,2,32,1323,213]])"
   ]
  }
 ],
 "metadata": {
  "kernelspec": {
   "display_name": "Python 3",
   "language": "python",
   "name": "python3"
  },
  "language_info": {
   "codemirror_mode": {
    "name": "ipython",
    "version": 3
   },
   "file_extension": ".py",
   "mimetype": "text/x-python",
   "name": "python",
   "nbconvert_exporter": "python",
   "pygments_lexer": "ipython3",
   "version": "3.11.3"
  },
  "orig_nbformat": 4
 },
 "nbformat": 4,
 "nbformat_minor": 2
}
