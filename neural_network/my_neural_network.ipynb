{
 "cells": [
  {
   "cell_type": "code",
   "execution_count": 1,
   "metadata": {},
   "outputs": [],
   "source": [
    "import pandas as pd\n",
    "import numpy as np\n",
    "import matplotlib.pyplot as pl\n",
    "from functions.logistic_descent import *"
   ]
  },
  {
   "cell_type": "code",
   "execution_count": 8,
   "metadata": {},
   "outputs": [],
   "source": [
    "\n",
    "# n1 = [per_w,per_b]\n",
    "model1 = []\n",
    "\n",
    "def add_layer(model,units,w,b):\n",
    "    model.append([w,b])\n",
    "\n",
    "def deal_node(node,input):\n",
    "    return \n",
    "\n",
    "def predict(model,x_data):\n",
    "    output = []\n",
    "    for layer in model:\n",
    "        w = layer[0]\n",
    "        b = layer[1]\n",
    "        # print(x_data.shape)\n",
    "        output = (np.array([ (sigmoid(w@x_data[i].reshape([-1,1])) + b) for i in range(x_data.shape[0])]))\n",
    "    return output\n",
    "\n",
    "# error estimation"
   ]
  },
  {
   "cell_type": "code",
   "execution_count": 9,
   "metadata": {},
   "outputs": [
    {
     "data": {
      "text/plain": [
       "array([[[0.],\n",
       "        [1.],\n",
       "        [3.]]])"
      ]
     },
     "execution_count": 9,
     "metadata": {},
     "output_type": "execute_result"
    }
   ],
   "source": [
    "W = np.array([[1,-2],[-3,4],[5,-6]])\n",
    "x = np.array([[200,17]])\n",
    "b = np.array([-1,1,2]).reshape(-1,1)\n",
    "add_layer(model1,3,W,b)\n",
    "predict(model1,x)"
   ]
  },
  {
   "cell_type": "code",
   "execution_count": null,
   "metadata": {},
   "outputs": [],
   "source": []
  }
 ],
 "metadata": {
  "kernelspec": {
   "display_name": "Python 3",
   "language": "python",
   "name": "python3"
  },
  "language_info": {
   "codemirror_mode": {
    "name": "ipython",
    "version": 3
   },
   "file_extension": ".py",
   "mimetype": "text/x-python",
   "name": "python",
   "nbconvert_exporter": "python",
   "pygments_lexer": "ipython3",
   "version": "3.11.3"
  },
  "orig_nbformat": 4
 },
 "nbformat": 4,
 "nbformat_minor": 2
}
