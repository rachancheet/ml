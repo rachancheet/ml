{
 "cells": [
  {
   "cell_type": "code",
   "execution_count": 23,
   "metadata": {},
   "outputs": [],
   "source": [
    "import pandas as pd\n",
    "import numpy as np\n",
    "import matplotlib.pyplot as pl\n",
    "from functions.logistic_descent import *"
   ]
  },
  {
   "cell_type": "code",
   "execution_count": 24,
   "metadata": {},
   "outputs": [],
   "source": [
    "\n",
    "# n1 = [per_w,per_b]\n",
    "model1 = []\n",
    "\n",
    "def add_layer(model,units,w,b):\n",
    "    model.append([w,b])\n",
    "\n",
    "def deal_node(node,input):\n",
    "    return \n",
    "\n",
    "def predict(model,x_data):\n",
    "    output = []\n",
    "    for layer in model:\n",
    "        w = layer[0]\n",
    "        b = layer[1]\n",
    "        out = np.array([ (sigmoid(w@input[i]) + b) for i in range(input.shape[0])])\n",
    "    return output\n",
    "\n",
    "# error estimation"
   ]
  },
  {
   "cell_type": "code",
   "execution_count": 25,
   "metadata": {},
   "outputs": [
    {
     "ename": "AttributeError",
     "evalue": "'function' object has no attribute 'shape'",
     "output_type": "error",
     "traceback": [
      "\u001b[1;31m---------------------------------------------------------------------------\u001b[0m",
      "\u001b[1;31mAttributeError\u001b[0m                            Traceback (most recent call last)",
      "Cell \u001b[1;32mIn[25], line 5\u001b[0m\n\u001b[0;32m      3\u001b[0m b \u001b[39m=\u001b[39m np\u001b[39m.\u001b[39marray([\u001b[39m-\u001b[39m\u001b[39m1\u001b[39m,\u001b[39m1\u001b[39m,\u001b[39m2\u001b[39m])\u001b[39m.\u001b[39mreshape(\u001b[39m-\u001b[39m\u001b[39m1\u001b[39m,\u001b[39m1\u001b[39m)\n\u001b[0;32m      4\u001b[0m add_layer(model1,\u001b[39m3\u001b[39m,W,b)\n\u001b[1;32m----> 5\u001b[0m predict(model1,x)\n",
      "Cell \u001b[1;32mIn[24], line 15\u001b[0m, in \u001b[0;36mpredict\u001b[1;34m(model, x_data)\u001b[0m\n\u001b[0;32m     13\u001b[0m     w \u001b[39m=\u001b[39m layer[\u001b[39m0\u001b[39m]\n\u001b[0;32m     14\u001b[0m     b \u001b[39m=\u001b[39m layer[\u001b[39m1\u001b[39m]\n\u001b[1;32m---> 15\u001b[0m     out \u001b[39m=\u001b[39m np\u001b[39m.\u001b[39marray([ (sigmoid(w\u001b[39m@input\u001b[39m[i]) \u001b[39m+\u001b[39m b) \u001b[39mfor\u001b[39;00m i \u001b[39min\u001b[39;00m \u001b[39mrange\u001b[39m(\u001b[39minput\u001b[39;49m\u001b[39m.\u001b[39;49mshape[\u001b[39m0\u001b[39m])])\n\u001b[0;32m     16\u001b[0m \u001b[39mreturn\u001b[39;00m output\n",
      "\u001b[1;31mAttributeError\u001b[0m: 'function' object has no attribute 'shape'"
     ]
    }
   ],
   "source": [
    "W = np.array([[1,-2],[-3,4],[5,-6]])\n",
    "x = np.array([200,17])\n",
    "b = np.array([-1,1,2]).reshape(-1,1)\n",
    "add_layer(model1,3,W,b)\n",
    "predict(model1,x)"
   ]
  },
  {
   "cell_type": "code",
   "execution_count": null,
   "metadata": {},
   "outputs": [],
   "source": []
  }
 ],
 "metadata": {
  "kernelspec": {
   "display_name": "Python 3",
   "language": "python",
   "name": "python3"
  },
  "language_info": {
   "codemirror_mode": {
    "name": "ipython",
    "version": 3
   },
   "file_extension": ".py",
   "mimetype": "text/x-python",
   "name": "python",
   "nbconvert_exporter": "python",
   "pygments_lexer": "ipython3",
   "version": "3.11.3"
  },
  "orig_nbformat": 4
 },
 "nbformat": 4,
 "nbformat_minor": 2
}
