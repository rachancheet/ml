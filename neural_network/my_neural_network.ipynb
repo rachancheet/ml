{
 "cells": [
  {
   "cell_type": "code",
   "execution_count": 28,
   "metadata": {},
   "outputs": [],
   "source": [
    "import pandas as pd\n",
    "import numpy as np\n",
    "import matplotlib.pyplot as pl\n",
    "from functions.logistic_descent import *"
   ]
  },
  {
   "cell_type": "code",
   "execution_count": null,
   "metadata": {},
   "outputs": [],
   "source": [
    "# column vectors ??"
   ]
  },
  {
   "cell_type": "code",
   "execution_count": 39,
   "metadata": {},
   "outputs": [],
   "source": [
    "\n",
    "# n1 = [per_w,per_b]\n",
    "model1 = []\n",
    "\n",
    "def add_layer(model,units,w,b):\n",
    "    model.append([w,b])\n",
    "\n",
    "def deal_node(node,input):\n",
    "    return \n",
    "\n",
    "def predict(w,b,x_data):\n",
    "    print(x_data,w)\n",
    "    output  = ([(sigmoid(w.T@x_data[:,0]) + b.reshpae(-1,1)) for i in range(x_data.shape[1])])\n",
    "    return output\n",
    "# error estimation"
   ]
  },
  {
   "cell_type": "code",
   "execution_count": 41,
   "metadata": {},
   "outputs": [
    {
     "name": "stdout",
     "output_type": "stream",
     "text": [
      "[[200]\n",
      " [ 17]\n",
      " [ 10]] [[ 1 -2]\n",
      " [-3  4]\n",
      " [ 5 -6]]\n"
     ]
    },
    {
     "data": {
      "text/plain": [
       "[array([[ 0., -1.],\n",
       "        [ 2.,  1.]])]"
      ]
     },
     "execution_count": 41,
     "metadata": {},
     "output_type": "execute_result"
    }
   ],
   "source": [
    "W = np.array([[1,-2],[-3,4],[5,-6]])\n",
    "x = np.array([[200],[17],[10]])\n",
    "b = np.array([-1,1,2]).reshape(-1,1)\n",
    "# add_layer(model1,3,W,b)\n",
    "predict(W,b,x)"
   ]
  },
  {
   "cell_type": "code",
   "execution_count": null,
   "metadata": {},
   "outputs": [],
   "source": []
  }
 ],
 "metadata": {
  "kernelspec": {
   "display_name": "Python 3",
   "language": "python",
   "name": "python3"
  },
  "language_info": {
   "codemirror_mode": {
    "name": "ipython",
    "version": 3
   },
   "file_extension": ".py",
   "mimetype": "text/x-python",
   "name": "python",
   "nbconvert_exporter": "python",
   "pygments_lexer": "ipython3",
   "version": "3.11.3"
  },
  "orig_nbformat": 4
 },
 "nbformat": 4,
 "nbformat_minor": 2
}
