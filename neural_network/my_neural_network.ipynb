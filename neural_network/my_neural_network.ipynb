{
 "cells": [
  {
   "cell_type": "code",
   "execution_count": 1,
   "metadata": {},
   "outputs": [],
   "source": [
    "import pandas as pd\n",
    "import numpy as np\n",
    "import matplotlib.pyplot as pl\n",
    "from functions.logistic_descent import *"
   ]
  },
  {
   "cell_type": "code",
   "execution_count": null,
   "metadata": {},
   "outputs": [],
   "source": [
    "input = [[x^1],][x^2]]\n",
    "\n",
    "# n1 = [per_w,per_b]\n",
    "model1 = []\n",
    "\n",
    "def add_layer(model,units):\n",
    "    model.appen([[0,0] for i in range(units)])\n",
    "\n",
    "def deal_node(node,input):\n",
    "    return ] \n",
    "\n",
    "def predict(model,x_data):\n",
    "    output = []\n",
    "    for layer in model:\n",
    "        [sigmoid(np.dot(input[i,:],node[0]) + node[1]) for i in range(input.shape[0])\n",
    "        for node in layer:\n",
    "            \n",
    "\n",
    "\n",
    "\n",
    "\n",
    "            output.append(deal_node(node,x_data))\n",
    "\n",
    "    return output\n",
    "\n",
    "# error estimation\n",
    "def error(model,):"
   ]
  }
 ],
 "metadata": {
  "kernelspec": {
   "display_name": "Python 3",
   "language": "python",
   "name": "python3"
  },
  "language_info": {
   "codemirror_mode": {
    "name": "ipython",
    "version": 3
   },
   "file_extension": ".py",
   "mimetype": "text/x-python",
   "name": "python",
   "nbconvert_exporter": "python",
   "pygments_lexer": "ipython3",
   "version": "3.11.3"
  },
  "orig_nbformat": 4
 },
 "nbformat": 4,
 "nbformat_minor": 2
}
