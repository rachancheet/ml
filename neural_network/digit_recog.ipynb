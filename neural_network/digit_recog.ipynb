{
 "cells": [
  {
   "cell_type": "code",
   "execution_count": null,
   "metadata": {},
   "outputs": [],
   "source": [
    "import numpy as np\n",
    "import matplotlib.pyplot as pl\n",
    "import random\n",
    "import tensorflow as tf\n",
    "from tensorflow.keras.models import Sequential\n",
    "from tensorflow.keras.layers import Dense\n"
   ]
  },
  {
   "cell_type": "code",
   "execution_count": null,
   "metadata": {},
   "outputs": [],
   "source": [
    "X = np.load(\"digit_data/X.npy\")\n",
    "y = np.load(\"digit_data/y.npy\")\n",
    "X = X[0:1000]\n",
    "y = y[0:1000]\n",
    "print(X.shape)\n",
    "print(X[0])"
   ]
  },
  {
   "cell_type": "code",
   "execution_count": null,
   "metadata": {},
   "outputs": [],
   "source": [
    "fig,ax = pl.subplots(8,8,figsize=(8,8))\n",
    "for i in range(ax.shape[0]):\n",
    "    for j in range(ax.shape[1]):\n",
    "        r = random.randint(1,1000)\n",
    "        if y[r] == 1:\n",
    "            ax[i][j].imshow(X[r].reshape(20,20))\n",
    "        else:\n",
    "            ax[i][j].imshow(X[r].reshape(20,20),cmap = 'gray')\n",
    "\n",
    "# fig.show()\n",
    "# want ones look like"
   ]
  },
  {
   "cell_type": "code",
   "execution_count": null,
   "metadata": {},
   "outputs": [],
   "source": [
    "model = Sequential(\n",
    "    [\n",
    "        tf.keras.Input(shape=(400,)),\n",
    "        Dense(units = 100,activation = 'sigmoid'),\n",
    "        Dense(units = 50,activation = 'sigmoid'),\n",
    "        Dense(units = 10,activation = 'sigmoid'),\n",
    "        Dense(units = 1,activation = 'sigmoid'),\n",
    "    ],name = \"my_model\"\n",
    ")\n"
   ]
  },
  {
   "cell_type": "code",
   "execution_count": null,
   "metadata": {},
   "outputs": [],
   "source": [
    "model.summary()"
   ]
  },
  {
   "cell_type": "code",
   "execution_count": null,
   "metadata": {},
   "outputs": [],
   "source": [
    "print(model.layers[0].weights[0].shape)\n",
    "print(model.layers[0].weights[0])\n"
   ]
  },
  {
   "cell_type": "code",
   "execution_count": null,
   "metadata": {},
   "outputs": [],
   "source": [
    "model.compile(\n",
    "    loss=tf.keras.losses.BinaryCrossentropy(),\n",
    "    optimizer=tf.keras.optimizers.Adam(0.001),\n",
    ")\n",
    "\n",
    "model.fit(\n",
    "    X,y,\n",
    "    epochs=20\n",
    ")"
   ]
  },
  {
   "cell_type": "code",
   "execution_count": null,
   "metadata": {},
   "outputs": [],
   "source": [
    "X\n",
    "# print(X[0])"
   ]
  },
  {
   "cell_type": "code",
   "execution_count": null,
   "metadata": {},
   "outputs": [],
   "source": [
    "def pre(num):\n",
    "    return 1 if num[0][0]>0.5 else 0\n",
    "print(pre(model.predict(X[0].reshape(1,400))))\n",
    "print(pre(model.predict(X[500].reshape(1,400))))"
   ]
  },
  {
   "cell_type": "code",
   "execution_count": null,
   "metadata": {},
   "outputs": [],
   "source": [
    "fig,ax = pl.subplots(8,8,figsize=(8,8))\n",
    "fig.tight_layout(pad=1,rect=[0, 0.03, 1, 0.92])\n",
    "for i in range(ax.shape[0]):\n",
    "    for j in range(ax.shape[1]):\n",
    "        r = random.randint(1,999)\n",
    "        ax[i][j].set_title(\"%.3f\"%(model.predict(X[r].reshape(1,400))[0][0]))\n",
    "        ax[i][j].imshow(X[r].reshape(20,20))\n",
    "        ax[i][j].set_axis_off()\n",
    "        \n"
   ]
  },
  {
   "cell_type": "code",
   "execution_count": null,
   "metadata": {},
   "outputs": [],
   "source": [
    "layer1,layer2,layer3,layer4 = model.layers\n",
    "\n",
    "per_w1,per_b1 = layer1.weights\n",
    "per_w2,per_b2 = layer2.weights\n",
    "per_w3,per_b3 = layer3.weights\n",
    "per_w4,per_b4 = layer4.weights\n",
    "W = [per_w1,per_w2,per_w3,per_w4]\n",
    "B = [per_b1,per_b2,per_b3,per_b4]"
   ]
  },
  {
   "cell_type": "code",
   "execution_count": null,
   "metadata": {},
   "outputs": [],
   "source": [
    "per_b1.shape\n",
    "print(tf.reshape(X[0],[-1,1]).shape)\n",
    "tf.transpose(W[0]).shape\n",
    "B[1]\n",
    "X[0].shape\n",
    "W[0].shape"
   ]
  },
  {
   "cell_type": "code",
   "execution_count": 71,
   "metadata": {},
   "outputs": [],
   "source": [
    "def sigmoid(k):\n",
    "    # return 1/(1+2.71**k)\n",
    "    out  = np.zeros(k.shape[0])\n",
    "    for i in range(k.shape[0]):\n",
    "        print(k[i].value)\n",
    "        # out[i] = 1/(1+2.71**k[i])\n",
    "    return out\n",
    "def my_layer(a_in,per_w,per_b):\n",
    "    k = tf.constant(tf.reshape(a_in,[-1,1]))\n",
    "    k = tf.cast(k, tf.float32)\n",
    "    # tf.cast(per_w,dtype=tf.float32)\n",
    "    return tf.transpose(per_w)@k + tf.reshape(per_b,[-1,1])\n",
    "    # return tf.reshape(a_in,[1,-1])@per_w +per_b\n",
    "def predict_(a_in,W,B):\n",
    "    # a_out = []\n",
    "    for i in range(len(W)):\n",
    "        a_in = my_layer(a_in,W[i],B[i])\n",
    "        # print(a_in.shape)\n",
    "\n",
    "    return a_in"
   ]
  },
  {
   "cell_type": "code",
   "execution_count": 72,
   "metadata": {},
   "outputs": [
    {
     "ename": "AttributeError",
     "evalue": "'tensorflow.python.framework.ops.EagerTensor' object has no attribute 'value'",
     "output_type": "error",
     "traceback": [
      "\u001b[1;31m---------------------------------------------------------------------------\u001b[0m",
      "\u001b[1;31mAttributeError\u001b[0m                            Traceback (most recent call last)",
      "Cell \u001b[1;32mIn[72], line 2\u001b[0m\n\u001b[0;32m      1\u001b[0m v  \u001b[39m=\u001b[39m tf\u001b[39m.\u001b[39mreshape(tf\u001b[39m.\u001b[39mconstant([\u001b[39m1\u001b[39m,\u001b[39m2\u001b[39m,\u001b[39m1\u001b[39m,\u001b[39m1\u001b[39m,\u001b[39m1\u001b[39m,\u001b[39m1\u001b[39m,\u001b[39m1\u001b[39m,\u001b[39m1\u001b[39m,\u001b[39m1\u001b[39m,\u001b[39m1\u001b[39m,\u001b[39m1\u001b[39m,\u001b[39m1\u001b[39m]),[\u001b[39m-\u001b[39m\u001b[39m1\u001b[39m,\u001b[39m1\u001b[39m])\n\u001b[1;32m----> 2\u001b[0m sigmoid(v)\n",
      "Cell \u001b[1;32mIn[71], line 5\u001b[0m, in \u001b[0;36msigmoid\u001b[1;34m(k)\u001b[0m\n\u001b[0;32m      3\u001b[0m out  \u001b[39m=\u001b[39m np\u001b[39m.\u001b[39mzeros(k\u001b[39m.\u001b[39mshape[\u001b[39m0\u001b[39m])\n\u001b[0;32m      4\u001b[0m \u001b[39mfor\u001b[39;00m i \u001b[39min\u001b[39;00m \u001b[39mrange\u001b[39m(k\u001b[39m.\u001b[39mshape[\u001b[39m0\u001b[39m]):\n\u001b[1;32m----> 5\u001b[0m     \u001b[39mprint\u001b[39m(k[i]\u001b[39m.\u001b[39;49mvalue)\n\u001b[0;32m      6\u001b[0m     \u001b[39m# out[i] = 1/(1+2.71**k[i])\u001b[39;00m\n\u001b[0;32m      7\u001b[0m \u001b[39mreturn\u001b[39;00m out\n",
      "File \u001b[1;32mc:\\Users\\DINO\\AppData\\Local\\Programs\\Python\\Python311\\Lib\\site-packages\\tensorflow\\python\\framework\\ops.py:443\u001b[0m, in \u001b[0;36mTensor.__getattr__\u001b[1;34m(self, name)\u001b[0m\n\u001b[0;32m    434\u001b[0m \u001b[39mif\u001b[39;00m name \u001b[39min\u001b[39;00m {\u001b[39m\"\u001b[39m\u001b[39mT\u001b[39m\u001b[39m\"\u001b[39m, \u001b[39m\"\u001b[39m\u001b[39mastype\u001b[39m\u001b[39m\"\u001b[39m, \u001b[39m\"\u001b[39m\u001b[39mravel\u001b[39m\u001b[39m\"\u001b[39m, \u001b[39m\"\u001b[39m\u001b[39mtranspose\u001b[39m\u001b[39m\"\u001b[39m, \u001b[39m\"\u001b[39m\u001b[39mreshape\u001b[39m\u001b[39m\"\u001b[39m, \u001b[39m\"\u001b[39m\u001b[39mclip\u001b[39m\u001b[39m\"\u001b[39m, \u001b[39m\"\u001b[39m\u001b[39msize\u001b[39m\u001b[39m\"\u001b[39m,\n\u001b[0;32m    435\u001b[0m             \u001b[39m\"\u001b[39m\u001b[39mtolist\u001b[39m\u001b[39m\"\u001b[39m, \u001b[39m\"\u001b[39m\u001b[39mdata\u001b[39m\u001b[39m\"\u001b[39m}:\n\u001b[0;32m    436\u001b[0m   \u001b[39m# TODO(wangpeng): Export the enable_numpy_behavior knob\u001b[39;00m\n\u001b[0;32m    437\u001b[0m   \u001b[39mraise\u001b[39;00m \u001b[39mAttributeError\u001b[39;00m(\n\u001b[0;32m    438\u001b[0m       \u001b[39mf\u001b[39m\u001b[39m\"\u001b[39m\u001b[39m{\u001b[39;00m\u001b[39mtype\u001b[39m(\u001b[39mself\u001b[39m)\u001b[39m.\u001b[39m\u001b[39m__name__\u001b[39m\u001b[39m}\u001b[39;00m\u001b[39m object has no attribute \u001b[39m\u001b[39m'\u001b[39m\u001b[39m{\u001b[39;00mname\u001b[39m}\u001b[39;00m\u001b[39m'\u001b[39m\u001b[39m. \u001b[39m\u001b[39m\"\u001b[39m \u001b[39m+\u001b[39m \u001b[39m\"\"\"\u001b[39m\n\u001b[0;32m    439\u001b[0m \u001b[39m    If you are looking for numpy-related methods, please run the following:\u001b[39m\n\u001b[0;32m    440\u001b[0m \u001b[39m    from tensorflow.python.ops.numpy_ops import np_config\u001b[39m\n\u001b[0;32m    441\u001b[0m \u001b[39m    np_config.enable_numpy_behavior()\u001b[39m\n\u001b[0;32m    442\u001b[0m \u001b[39m  \u001b[39m\u001b[39m\"\"\"\u001b[39m)\n\u001b[1;32m--> 443\u001b[0m \u001b[39mself\u001b[39;49m\u001b[39m.\u001b[39;49m\u001b[39m__getattribute__\u001b[39;49m(name)\n",
      "\u001b[1;31mAttributeError\u001b[0m: 'tensorflow.python.framework.ops.EagerTensor' object has no attribute 'value'"
     ]
    }
   ],
   "source": [
    "v  = tf.reshape(tf.constant([1,2,1,1,1,1,1,1,1,1,1,1]),[-1,1])\n",
    "sigmoid(v)"
   ]
  },
  {
   "cell_type": "code",
   "execution_count": null,
   "metadata": {},
   "outputs": [],
   "source": [
    "# fig,ax = pl.subplots(8,8,figsize=(8,8))\n",
    "# fig.tight_layout(pad=1,rect=[0, 0.03, 1, 0.92])\n",
    "for i in range(8):\n",
    "    for j in range(8):\n",
    "        r = random.randint(1,1000)\n",
    "        t_f = (model.predict(X[r].reshape(1,400))[0][0])\n",
    "        m_f = predict_(X[r],W,B)[0][0]\n",
    "        print(\"-------------------------\\n\",t_f,\"== ? :\",m_f,\"-----------------\\n\")\n",
    "        # ax[i][j].set_title(\"%.3f\"%(model.predict(X[r].reshape(1,400))[0][0]),)\n",
    "        # ax[i][j].imshow(X[r].reshape(20,20))\n",
    "        # ax[i][j].set_axis_off()\n",
    "        "
   ]
  },
  {
   "cell_type": "code",
   "execution_count": null,
   "metadata": {},
   "outputs": [],
   "source": [
    "for r in range(len(right)):\n",
    "    print(right[r],\"------------------------\",predict_(X[r],W,B)[0][0])"
   ]
  },
  {
   "cell_type": "code",
   "execution_count": null,
   "metadata": {},
   "outputs": [],
   "source": []
  },
  {
   "cell_type": "code",
   "execution_count": null,
   "metadata": {},
   "outputs": [],
   "source": []
  },
  {
   "cell_type": "code",
   "execution_count": null,
   "metadata": {},
   "outputs": [],
   "source": []
  }
 ],
 "metadata": {
  "kernelspec": {
   "display_name": "Python 3",
   "language": "python",
   "name": "python3"
  },
  "language_info": {
   "codemirror_mode": {
    "name": "ipython",
    "version": 3
   },
   "file_extension": ".py",
   "mimetype": "text/x-python",
   "name": "python",
   "nbconvert_exporter": "python",
   "pygments_lexer": "ipython3",
   "version": "3.11.3"
  },
  "orig_nbformat": 4
 },
 "nbformat": 4,
 "nbformat_minor": 2
}
