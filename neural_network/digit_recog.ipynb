{
 "cells": [
  {
   "cell_type": "code",
   "execution_count": null,
   "metadata": {},
   "outputs": [],
   "source": [
    "import numpy as np\n",
    "import matplotlib.pyplot as pl\n",
    "import random\n",
    "import tensorflow as tf\n",
    "from tensorflow.keras.models import Sequential\n",
    "from tensorflow.keras.layers import Dense\n"
   ]
  },
  {
   "cell_type": "code",
   "execution_count": null,
   "metadata": {},
   "outputs": [],
   "source": [
    "X = np.load(\"digit_data/X.npy\")\n",
    "y = np.load(\"digit_data/y.npy\")\n",
    "X = X[0:1000]\n",
    "y = y[0:1000]\n",
    "print(X.shape)\n",
    "print(X[0])"
   ]
  },
  {
   "cell_type": "code",
   "execution_count": null,
   "metadata": {},
   "outputs": [],
   "source": [
    "fig,ax = pl.subplots(8,8,figsize=(8,8))\n",
    "for i in range(ax.shape[0]):\n",
    "    for j in range(ax.shape[1]):\n",
    "        r = random.randint(1,1000)\n",
    "        if y[r] == 1:\n",
    "            ax[i][j].imshow(X[r].reshape(20,20))\n",
    "        else:\n",
    "            ax[i][j].imshow(X[r].reshape(20,20),cmap = 'gray')\n",
    "\n",
    "# fig.show()\n",
    "# want ones look like"
   ]
  },
  {
   "cell_type": "code",
   "execution_count": null,
   "metadata": {},
   "outputs": [],
   "source": [
    "model = Sequential(\n",
    "    [\n",
    "        tf.keras.Input(shape=(400,)),\n",
    "        Dense(units = 100,activation = 'sigmoid'),\n",
    "        Dense(units = 50,activation = 'sigmoid'),\n",
    "        Dense(units = 10,activation = 'sigmoid'),\n",
    "        Dense(units = 1,activation = 'sigmoid'),\n",
    "    ],name = \"my_model\"\n",
    ")\n"
   ]
  },
  {
   "cell_type": "code",
   "execution_count": null,
   "metadata": {},
   "outputs": [],
   "source": [
    "model.summary()"
   ]
  },
  {
   "cell_type": "code",
   "execution_count": null,
   "metadata": {},
   "outputs": [],
   "source": [
    "print(model.layers[0].weights[0].shape)\n",
    "print(model.layers[0].weights[0])\n"
   ]
  },
  {
   "cell_type": "code",
   "execution_count": null,
   "metadata": {},
   "outputs": [],
   "source": [
    "model.compile(\n",
    "    loss=tf.keras.losses.BinaryCrossentropy(),\n",
    "    optimizer=tf.keras.optimizers.Adam(0.001),\n",
    ")\n",
    "\n",
    "model.fit(\n",
    "    X,y,\n",
    "    epochs=20\n",
    ")"
   ]
  },
  {
   "cell_type": "code",
   "execution_count": null,
   "metadata": {},
   "outputs": [],
   "source": [
    "X\n",
    "# print(X[0])"
   ]
  },
  {
   "cell_type": "code",
   "execution_count": null,
   "metadata": {},
   "outputs": [],
   "source": [
    "def pre(num):\n",
    "    return 1 if num[0][0]>0.5 else 0\n",
    "print(pre(model.predict(X[0].reshape(1,400))))\n",
    "print(pre(model.predict(X[500].reshape(1,400))))"
   ]
  },
  {
   "cell_type": "code",
   "execution_count": null,
   "metadata": {},
   "outputs": [],
   "source": [
    "fig,ax = pl.subplots(8,8,figsize=(8,8))\n",
    "fig.tight_layout(pad=1,rect=[0, 0.03, 1, 0.92])\n",
    "for i in range(ax.shape[0]):\n",
    "    for j in range(ax.shape[1]):\n",
    "        r = random.randint(1,999)\n",
    "        ax[i][j].set_title(\"%.3f\"%(model.predict(X[r].reshape(1,400))[0][0]))\n",
    "        ax[i][j].imshow(X[r].reshape(20,20))\n",
    "        ax[i][j].set_axis_off()\n",
    "        \n"
   ]
  },
  {
   "cell_type": "code",
   "execution_count": null,
   "metadata": {},
   "outputs": [],
   "source": [
    "layer1,layer2,layer3,layer4 = model.layers\n",
    "\n",
    "per_w1,per_b1 = layer1.weights\n",
    "per_w2,per_b2 = layer2.weights\n",
    "per_w3,per_b3 = layer3.weights\n",
    "per_w4,per_b4 = layer4.weights\n",
    "W = [per_w1,per_w2,per_w3,per_w4]\n",
    "B = [per_b1,per_b2,per_b3,per_b4]"
   ]
  },
  {
   "cell_type": "code",
   "execution_count": null,
   "metadata": {},
   "outputs": [],
   "source": [
    "per_b1.shape\n",
    "print(tf.reshape(X[0],[-1,1]).shape)\n",
    "tf.transpose(W[0]).shape\n",
    "B[1]\n",
    "X[0].shape\n",
    "W[0].shape"
   ]
  },
  {
   "cell_type": "code",
   "execution_count": 79,
   "metadata": {},
   "outputs": [],
   "source": [
    "def sigmoid(k):\n",
    "    # k = tf.reshape(k,[-1])\n",
    "    print(k)\n",
    "    return 1/(1+2.71**k)\n",
    "    # out  = np.zeros(k.shape[0])\n",
    "    # for i in range(k.shape[0]):\n",
    "    #     print(k[i].value)\n",
    "    #     # out[i] = 1/(1+2.71**k[i])\n",
    "    # return out\n",
    "def my_layer(a_in,per_w,per_b):\n",
    "    k = tf.constant(tf.reshape(a_in,[-1,1]))\n",
    "    k = tf.cast(k, tf.float32)\n",
    "    # tf.cast(per_w,dtype=tf.float32)\n",
    "    return tf.transpose(per_w)@k + tf.reshape(per_b,[-1,1])\n",
    "    # return tf.reshape(a_in,[1,-1])@per_w +per_b\n",
    "def predict_(a_in,W,B):\n",
    "    # a_out = []\n",
    "    for i in range(len(W)):\n",
    "        a_in = my_layer(a_in,W[i],B[i])\n",
    "        # print(a_in.shape)\n",
    "\n",
    "    return a_in"
   ]
  },
  {
   "cell_type": "code",
   "execution_count": 80,
   "metadata": {},
   "outputs": [
    {
     "name": "stdout",
     "output_type": "stream",
     "text": [
      "[1 2 1 1 1 1 1 1 1 1 1]\n"
     ]
    },
    {
     "data": {
      "text/plain": [
       "array([0.26954178, 0.11984516, 0.26954178, 0.26954178, 0.26954178,\n",
       "       0.26954178, 0.26954178, 0.26954178, 0.26954178, 0.26954178,\n",
       "       0.26954178])"
      ]
     },
     "execution_count": 80,
     "metadata": {},
     "output_type": "execute_result"
    }
   ],
   "source": [
    "# v  = tf.reshape(tf.constant([1,2,1,1,1,1,1,1,1,1,1,1]),[-1,1])\n",
    "v = np.array([1,2,1,1,1,1,1,1,1,1,1])\n",
    "sigmoid(v)"
   ]
  },
  {
   "cell_type": "code",
   "execution_count": null,
   "metadata": {},
   "outputs": [],
   "source": [
    "# fig,ax = pl.subplots(8,8,figsize=(8,8))\n",
    "# fig.tight_layout(pad=1,rect=[0, 0.03, 1, 0.92])\n",
    "for i in range(8):\n",
    "    for j in range(8):\n",
    "        r = random.randint(1,1000)\n",
    "        t_f = (model.predict(X[r].reshape(1,400))[0][0])\n",
    "        m_f = predict_(X[r],W,B)[0][0]\n",
    "        print(\"-------------------------\\n\",t_f,\"== ? :\",m_f,\"-----------------\\n\")\n",
    "        # ax[i][j].set_title(\"%.3f\"%(model.predict(X[r].reshape(1,400))[0][0]),)\n",
    "        # ax[i][j].imshow(X[r].reshape(20,20))\n",
    "        # ax[i][j].set_axis_off()\n",
    "        "
   ]
  },
  {
   "cell_type": "code",
   "execution_count": null,
   "metadata": {},
   "outputs": [],
   "source": [
    "for r in range(len(right)):\n",
    "    print(right[r],\"------------------------\",predict_(X[r],W,B)[0][0])"
   ]
  },
  {
   "cell_type": "code",
   "execution_count": null,
   "metadata": {},
   "outputs": [],
   "source": []
  },
  {
   "cell_type": "code",
   "execution_count": null,
   "metadata": {},
   "outputs": [],
   "source": []
  },
  {
   "cell_type": "code",
   "execution_count": null,
   "metadata": {},
   "outputs": [],
   "source": []
  }
 ],
 "metadata": {
  "kernelspec": {
   "display_name": "Python 3",
   "language": "python",
   "name": "python3"
  },
  "language_info": {
   "codemirror_mode": {
    "name": "ipython",
    "version": 3
   },
   "file_extension": ".py",
   "mimetype": "text/x-python",
   "name": "python",
   "nbconvert_exporter": "python",
   "pygments_lexer": "ipython3",
   "version": "3.11.3"
  },
  "orig_nbformat": 4
 },
 "nbformat": 4,
 "nbformat_minor": 2
}
