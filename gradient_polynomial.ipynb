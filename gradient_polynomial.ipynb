{
 "cells": [
  {
   "cell_type": "code",
   "execution_count": 1,
   "metadata": {},
   "outputs": [],
   "source": [
    "import matplotlib.pyplot as pl\n",
    "import numpy as np\n",
    "import pandas as pd\n",
    "from functions.multi_gradient_descent import *"
   ]
  },
  {
   "cell_type": "code",
   "execution_count": 2,
   "metadata": {},
   "outputs": [],
   "source": [
    "file = \"./data from book/advertising.csv\"\n",
    "data = pd.read_csv(file)\n",
    "# print(data.head())\n",
    "x_data = np.array([[x,x**2] for x in data['TV']])\n",
    "y_data = data['sales']\n",
    "# x_data[0]\n"
   ]
  },
  {
   "cell_type": "code",
   "execution_count": 3,
   "metadata": {},
   "outputs": [
    {
     "ename": "ValueError",
     "evalue": "shapes (2,) and (5,) not aligned: 2 (dim 0) != 5 (dim 0)",
     "output_type": "error",
     "traceback": [
      "\u001b[1;31m---------------------------------------------------------------------------\u001b[0m",
      "\u001b[1;31mValueError\u001b[0m                                Traceback (most recent call last)",
      "Cell \u001b[1;32mIn[3], line 3\u001b[0m\n\u001b[0;32m      1\u001b[0m w \u001b[39m=\u001b[39m np\u001b[39m.\u001b[39mzeros([\u001b[39m5\u001b[39m])\n\u001b[0;32m      2\u001b[0m b\u001b[39m=\u001b[39m\u001b[39m0\u001b[39m\n\u001b[1;32m----> 3\u001b[0m per_w,per_b \u001b[39m=\u001b[39m gradient_descent(x_data,y_data,w,b)\n\u001b[0;32m      4\u001b[0m \u001b[39mprint\u001b[39m(per_w, per_b)\n",
      "File \u001b[1;32mc:\\code\\ml\\functions\\multi_gradient_descent.py:39\u001b[0m, in \u001b[0;36mgradient_descent\u001b[1;34m(x_data, y_data, w, b)\u001b[0m\n\u001b[0;32m     37\u001b[0m \u001b[39mfor\u001b[39;00m i \u001b[39min\u001b[39;00m \u001b[39mrange\u001b[39m(\u001b[39m50000\u001b[39m):\n\u001b[0;32m     38\u001b[0m     count \u001b[39m+\u001b[39m\u001b[39m=\u001b[39m\u001b[39m1\u001b[39m\n\u001b[1;32m---> 39\u001b[0m     dj_dw,dj_db \u001b[39m=\u001b[39m  gradient(x_data,y_data,w,b)\n\u001b[0;32m     42\u001b[0m     w \u001b[39m=\u001b[39m w\u001b[39m-\u001b[39m(dist\u001b[39m*\u001b[39mdj_dw)\n\u001b[0;32m     43\u001b[0m     b \u001b[39m=\u001b[39m b\u001b[39m-\u001b[39m(dist\u001b[39m*\u001b[39mdj_db)\n",
      "File \u001b[1;32mc:\\code\\ml\\functions\\multi_gradient_descent.py:20\u001b[0m, in \u001b[0;36mgradient\u001b[1;34m(x_data, y_data, w, b)\u001b[0m\n\u001b[0;32m     18\u001b[0m m \u001b[39m=\u001b[39m x_data\u001b[39m.\u001b[39mshape[\u001b[39m0\u001b[39m]\n\u001b[0;32m     19\u001b[0m \u001b[39mfor\u001b[39;00m i \u001b[39min\u001b[39;00m \u001b[39mrange\u001b[39m(x_data\u001b[39m.\u001b[39mshape[\u001b[39m0\u001b[39m]):\n\u001b[1;32m---> 20\u001b[0m     k \u001b[39m=\u001b[39m (np\u001b[39m.\u001b[39;49mdot(x_data[i],w)\u001b[39m+\u001b[39mb\u001b[39m-\u001b[39m (y_data[i]))\n\u001b[0;32m     21\u001b[0m     \u001b[39mfor\u001b[39;00m gb \u001b[39min\u001b[39;00m \u001b[39mrange\u001b[39m(w\u001b[39m.\u001b[39mshape[\u001b[39m0\u001b[39m]): \n\u001b[0;32m     22\u001b[0m         j_i[gb] \u001b[39m+\u001b[39m\u001b[39m=\u001b[39m (k\u001b[39m*\u001b[39mx_data[i][gb])\n",
      "File \u001b[1;32m<__array_function__ internals>:180\u001b[0m, in \u001b[0;36mdot\u001b[1;34m(*args, **kwargs)\u001b[0m\n",
      "\u001b[1;31mValueError\u001b[0m: shapes (2,) and (5,) not aligned: 2 (dim 0) != 5 (dim 0)"
     ]
    }
   ],
   "source": [
    "w = np.zeros(x_data.shape[0])\n",
    "b=0\n",
    "per_w,per_b = gradient_descent(x_data,y_data,w,b)\n",
    "print(per_w, per_b)"
   ]
  }
 ],
 "metadata": {
  "kernelspec": {
   "display_name": "Python 3",
   "language": "python",
   "name": "python3"
  },
  "language_info": {
   "codemirror_mode": {
    "name": "ipython",
    "version": 3
   },
   "file_extension": ".py",
   "mimetype": "text/x-python",
   "name": "python",
   "nbconvert_exporter": "python",
   "pygments_lexer": "ipython3",
   "version": "3.11.3"
  },
  "orig_nbformat": 4
 },
 "nbformat": 4,
 "nbformat_minor": 2
}
